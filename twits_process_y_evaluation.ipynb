{
 "cells": [
  {
   "cell_type": "markdown",
   "metadata": {},
   "source": [
    "## Preprocessing"
   ]
  },
  {
   "cell_type": "code",
   "execution_count": 30,
   "metadata": {},
   "outputs": [],
   "source": [
    "import pandas as pd\n",
    "import re\n",
    "from sklearn.utils import shuffle\n",
    "from sklearn.model_selection import train_test_split\n",
    "import json\n",
    "import pandas\n",
    "import os\n",
    "import io\n",
    "import random\n",
    "import json\n",
    "from nltk.corpus import stopwords\n",
    "import string\n",
    "import numpy as np\n",
    "from scipy import stats\n",
    "from gsitk.preprocess import pprocess_twitter"
   ]
  },
  {
   "cell_type": "markdown",
   "metadata": {},
   "source": [
    "Read file"
   ]
  },
  {
   "cell_type": "code",
   "execution_count": 31,
   "metadata": {},
   "outputs": [],
   "source": [
    "# with this file we take the tweets from the database of hate_labeled_data.csv and put in a file, with each line a tweet\n",
    "data = pd.read_csv('hate_labeled_data.csv')\n",
    "data = data.rename(columns={'count': 'counter', 'class': 'type'})   # change names so they dont interfere with class names\n",
    "data = data.sort_values(by='counter', ascending=False)"
   ]
  },
  {
   "cell_type": "markdown",
   "metadata": {},
   "source": [
    "Preprocess the twits with gsitk tool"
   ]
  },
  {
   "cell_type": "code",
   "execution_count": 14,
   "metadata": {},
   "outputs": [
    {
     "data": {
      "text/plain": [
       "14007    rt <allcaps> <user>: <user> <user> nah boa tha...\n",
       "7415     a bitch like you need to get fucked right ever...\n",
       "13370                                    nikko a gay bitch\n",
       "11155    i'd rather follow some girls on instagram rath...\n",
       "20709    she a hoe cause your boyfriend want her? she s...\n",
       "                               ...                        \n",
       "8516     confident in one way, pussy in another. so str...\n",
       "8514     completely off topic, idgaf about that pretty ...\n",
       "8513     commentators bitch at bird for \"sliding\" but <...\n",
       "8512                                comin from a fat bitch\n",
       "24782    ~~ruffled | ntac eileen dahlia - beautiful col...\n",
       "Name: tweet, Length: 24783, dtype: object"
      ]
     },
     "execution_count": 14,
     "metadata": {},
     "output_type": "execute_result"
    }
   ],
   "source": [
    "data['tweet'] = data['tweet'].map(pprocess_twitter.preprocess)"
   ]
  },
  {
   "cell_type": "code",
   "execution_count": 32,
   "metadata": {},
   "outputs": [
    {
     "name": "stdout",
     "output_type": "stream",
     "text": [
      "Hate twits (1430, 3)\n",
      "Offensive twits (19190, 3)\n",
      "Neither twits (4163, 3)\n"
     ]
    }
   ],
   "source": [
    "# divide the dataset into the category it belongs\n",
    "# we are going to make two tests, one with offensive language and one with hate_speech\n",
    "\n",
    "# separate datasets into neither, offensive and hate speech\n",
    "data_hate = data[data.type == 0][['counter', 'type', 'tweet']]\n",
    "data_offensive = data[data.type == 1][['counter', 'type', 'tweet']]\n",
    "data_neither = data[data.type == 2][['counter', 'type', 'tweet']]\n",
    "\n",
    "print('Hate twits', data_hate.shape)    # ->1430\n",
    "print('Offensive twits', data_offensive.shape)  # -> 19190\n",
    "print('Neither twits', data_neither.shape)  # -> 4163\n",
    "\n"
   ]
  },
  {
   "cell_type": "markdown",
   "metadata": {},
   "source": [
    "using stratify to use all the information and maintain the proportion"
   ]
  },
  {
   "cell_type": "code",
   "execution_count": 88,
   "metadata": {},
   "outputs": [],
   "source": [
    "dataset_hate = data_hate.append(data_neither)\n",
    "dataset_hate_label = dataset_hate['type']\n",
    "train_hate, test_hate, train_hate_label, test_hate_label = train_test_split(\n",
    "    dataset_hate['tweet'], dataset_hate_label, test_size = 0.2, shuffle = True, stratify=dataset_hate_label)\n",
    "\n"
   ]
  },
  {
   "cell_type": "code",
   "execution_count": 89,
   "metadata": {},
   "outputs": [
    {
     "data": {
      "text/plain": [
       "Index(['tweet', 'label'], dtype='object')"
      ]
     },
     "execution_count": 89,
     "metadata": {},
     "output_type": "execute_result"
    }
   ],
   "source": [
    "\n",
    "train_hate = train_hate.to_frame()\n",
    "train_hate['label'] = train_hate_label\n",
    "train_hate.keys()"
   ]
  },
  {
   "cell_type": "code",
   "execution_count": 90,
   "metadata": {},
   "outputs": [
    {
     "data": {
      "text/html": [
       "<div>\n",
       "<style scoped>\n",
       "    .dataframe tbody tr th:only-of-type {\n",
       "        vertical-align: middle;\n",
       "    }\n",
       "\n",
       "    .dataframe tbody tr th {\n",
       "        vertical-align: top;\n",
       "    }\n",
       "\n",
       "    .dataframe thead th {\n",
       "        text-align: right;\n",
       "    }\n",
       "</style>\n",
       "<table border=\"1\" class=\"dataframe\">\n",
       "  <thead>\n",
       "    <tr style=\"text-align: right;\">\n",
       "      <th></th>\n",
       "      <th>tweet</th>\n",
       "      <th>label</th>\n",
       "    </tr>\n",
       "  </thead>\n",
       "  <tbody>\n",
       "    <tr>\n",
       "      <th>23070</th>\n",
       "      <td>Ya'll take note. There ain't never tornadoes w...</td>\n",
       "      <td>2</td>\n",
       "    </tr>\n",
       "    <tr>\n",
       "      <th>7016</th>\n",
       "      <td>@shanetallant he won't bite! We promise he's a...</td>\n",
       "      <td>2</td>\n",
       "    </tr>\n",
       "    <tr>\n",
       "      <th>1200</th>\n",
       "      <td>&amp;#8220;@CommonBlackGirI: here&amp;#8217;s to all t...</td>\n",
       "      <td>2</td>\n",
       "    </tr>\n",
       "    <tr>\n",
       "      <th>17718</th>\n",
       "      <td>RT @TheRealMugatu: @Deet02 @MikeNapoli25 @954N...</td>\n",
       "      <td>2</td>\n",
       "    </tr>\n",
       "    <tr>\n",
       "      <th>18406</th>\n",
       "      <td>RT @__bettyboo: You better pray I don't send y...</td>\n",
       "      <td>0</td>\n",
       "    </tr>\n",
       "    <tr>\n",
       "      <th>...</th>\n",
       "      <td>...</td>\n",
       "      <td>...</td>\n",
       "    </tr>\n",
       "    <tr>\n",
       "      <th>7756</th>\n",
       "      <td>And the Jew @Deuterostomes favorited my tweet ...</td>\n",
       "      <td>0</td>\n",
       "    </tr>\n",
       "    <tr>\n",
       "      <th>5172</th>\n",
       "      <td>@WyattNuckels @grizzboadams shut the fuck up f...</td>\n",
       "      <td>0</td>\n",
       "    </tr>\n",
       "    <tr>\n",
       "      <th>5358</th>\n",
       "      <td>@_TriggaPlease_ @kanyewest he's a faggot</td>\n",
       "      <td>0</td>\n",
       "    </tr>\n",
       "    <tr>\n",
       "      <th>3716</th>\n",
       "      <td>@JunDishes elissa would call me trash, vile, e...</td>\n",
       "      <td>2</td>\n",
       "    </tr>\n",
       "    <tr>\n",
       "      <th>6528</th>\n",
       "      <td>@krispy717 @grizzboadams fucking gay faggot lo...</td>\n",
       "      <td>0</td>\n",
       "    </tr>\n",
       "  </tbody>\n",
       "</table>\n",
       "<p>4474 rows × 2 columns</p>\n",
       "</div>"
      ],
      "text/plain": [
       "                                                   tweet  label\n",
       "23070  Ya'll take note. There ain't never tornadoes w...      2\n",
       "7016   @shanetallant he won't bite! We promise he's a...      2\n",
       "1200   &#8220;@CommonBlackGirI: here&#8217;s to all t...      2\n",
       "17718  RT @TheRealMugatu: @Deet02 @MikeNapoli25 @954N...      2\n",
       "18406  RT @__bettyboo: You better pray I don't send y...      0\n",
       "...                                                  ...    ...\n",
       "7756   And the Jew @Deuterostomes favorited my tweet ...      0\n",
       "5172   @WyattNuckels @grizzboadams shut the fuck up f...      0\n",
       "5358            @_TriggaPlease_ @kanyewest he's a faggot      0\n",
       "3716   @JunDishes elissa would call me trash, vile, e...      2\n",
       "6528   @krispy717 @grizzboadams fucking gay faggot lo...      0\n",
       "\n",
       "[4474 rows x 2 columns]"
      ]
     },
     "execution_count": 90,
     "metadata": {},
     "output_type": "execute_result"
    }
   ],
   "source": [
    "train_hate"
   ]
  },
  {
   "cell_type": "code",
   "execution_count": 68,
   "metadata": {},
   "outputs": [
    {
     "name": "stdout",
     "output_type": "stream",
     "text": [
      "Index(['counter', 'type', 'tweet'], dtype='object')\n",
      "Index(['counter', 'type', 'tweet'], dtype='object')\n"
     ]
    }
   ],
   "source": [
    "print(data_t.keys())\n",
    "print(data_neither.keys())\n"
   ]
  },
  {
   "cell_type": "code",
   "execution_count": null,
   "metadata": {},
   "outputs": [],
   "source": [
    "# # as we have dispair number of tweets for each class, and we want the data to be balanced\n",
    "# # we will make the two datasets with the minimum of the values as the limiting one\n",
    "# # concatenate both dataframes into a final one\n",
    "# dataset_offensive = data_offensive[0:5000].append(data_neither)\n",
    "# dataset_hate = data_hate.append(data_neither[0:2000])\n",
    "# # we shuffle it so the order is random and twits offensive and neither are mixed\n",
    "# dataset_offensive = shuffle(dataset_offensive)\n",
    "# dataset_hate = shuffle(dataset_hate)\n",
    "# # divide into train/test sets\n",
    "# train_offensive, test_offensive = train_test_split(dataset_offensive, test_size=0.2)\n",
    "# train_hate, test_hate = train_test_split(dataset_hate, test_size=0.2)"
   ]
  },
  {
   "cell_type": "markdown",
   "metadata": {},
   "source": [
    "Save train files as txt and test files as csv"
   ]
  },
  {
   "cell_type": "code",
   "execution_count": 16,
   "metadata": {},
   "outputs": [],
   "source": [
    "# create or erase content of file in case it is exists\n",
    "f = open('offensive_twits_train.txt', 'w+')\n",
    "for twit in train_offensive['tweet']:\n",
    "    f.write(twit + '\\n')\n",
    "f.close()\n",
    "\n",
    "f = open('hate_twits_train.txt', 'w+')\n",
    "for twit in train_hate['tweet']:\n",
    "    f.write(twit + '\\n')\n",
    "f.close()\n",
    "\n",
    "# save test files as csv\n",
    "test_offensive.to_csv('offensive_twits_test.csv')\n",
    "test_hate.to_csv('hate_twits_test.csv')"
   ]
  },
  {
   "cell_type": "markdown",
   "metadata": {},
   "source": [
    "###### Execute 'hatedictionary.py hate_twits_train.txt hate' before continuing with the next part"
   ]
  },
  {
   "cell_type": "markdown",
   "metadata": {},
   "source": [
    "## Evaluation"
   ]
  },
  {
   "cell_type": "code",
   "execution_count": 7,
   "metadata": {},
   "outputs": [],
   "source": [
    "import json\n",
    "import pandas\n",
    "import os\n",
    "import io\n",
    "import random\n",
    "import json\n",
    "from nltk.corpus import stopwords\n",
    "import string\n",
    "import numpy as np\n",
    "from scipy import stats\n",
    "import pandas as pd\n",
    "from gsitk.preprocess import pprocess_twitter"
   ]
  },
  {
   "cell_type": "markdown",
   "metadata": {},
   "source": [
    "get the dictionaries"
   ]
  },
  {
   "cell_type": "code",
   "execution_count": 8,
   "metadata": {},
   "outputs": [],
   "source": [
    "# hate\n",
    "with open('dictionaries/hate_densify.json') as json_file:\n",
    "    hate_dict_densify = json.load(json_file)\n",
    "with open('dictionaries/hate_socialsent.json') as json_file:\n",
    "    hate_dict_socialsent = json.load(json_file)\n",
    "    \n",
    "# offensive\n",
    "with open('dictionaries/offensive_densify.json') as json_file:\n",
    "    offensive_dict_densify = json.load(json_file)\n",
    "with open('dictionaries/offensive_socialsent.json') as json_file:\n",
    "    offensive_dict_socialsent = json.load(json_file)"
   ]
  },
  {
   "cell_type": "code",
   "execution_count": 9,
   "metadata": {},
   "outputs": [
    {
     "data": {
      "text/plain": [
       "7.525424957275391"
      ]
     },
     "execution_count": 9,
     "metadata": {},
     "output_type": "execute_result"
    }
   ],
   "source": [
    "max(list(hate_dict_densify.values()))"
   ]
  },
  {
   "cell_type": "markdown",
   "metadata": {},
   "source": [
    "Function to normalize the dictionary between -1 and 1 values"
   ]
  },
  {
   "cell_type": "code",
   "execution_count": 132,
   "metadata": {},
   "outputs": [],
   "source": [
    "# def normalize_dict(dictionary):\n",
    "\n",
    "#     value_list = list(dictionary.values())\n",
    "#     key_list = list(dictionary.keys())\n",
    "#     max_list = max(value_list)\n",
    "#     min_list = min(value_list)\n",
    "#     a = {key_list[i]: 2 * (value_list[i] - min_list)/(max_list - min_list) -1  for i in range(len(key_list))}\n",
    "#     return a"
   ]
  },
  {
   "cell_type": "code",
   "execution_count": 133,
   "metadata": {},
   "outputs": [],
   "source": [
    "# # hate\n",
    "# hate_dict_socialsent = normalize_dict(hate_dict_socialsent)\n",
    "# hate_dict_densify = normalize_dict(hate_dict_densify)\n",
    "\n",
    "# # offensive\n",
    "# offensive_dict_socialsent = normalize_dict(offensive_dict_socialsent)\n",
    "# offensive_dict_densify = normalize_dict(offensive_dict_densify)"
   ]
  },
  {
   "cell_type": "markdown",
   "metadata": {},
   "source": [
    "Read each file and calculate the mean value"
   ]
  },
  {
   "cell_type": "code",
   "execution_count": 11,
   "metadata": {},
   "outputs": [],
   "source": [
    "hate_twits = pd.read_csv('hate_twits_test.csv')\n",
    "offensive_twits = pd.read_csv('offensive_twits_test.csv')\n",
    "hate_twits = hate_twits.drop(columns='Unnamed: 0')"
   ]
  },
  {
   "cell_type": "code",
   "execution_count": 12,
   "metadata": {},
   "outputs": [],
   "source": [
    "# initialize arrays for evaluation\n",
    "# ground truth\n",
    "hate_label = np.zeros(len(hate_twits))\n",
    "offensive_label = np.zeros(len(offensive_twits))\n",
    "# evaluated value\n",
    "hate_eval = np.zeros(len(hate_twits))\n",
    "hate_offensive = np.zeros(len(offensive_twits))"
   ]
  },
  {
   "cell_type": "code",
   "execution_count": 13,
   "metadata": {},
   "outputs": [],
   "source": [
    "def evaluate(data, args):\n",
    "    evaluation_soc = 0  # socialsent\n",
    "    evaluation_dens = 0   # densify\n",
    "    counter = 0\n",
    "    if args == 'hate':\n",
    "        dict_soc = hate_dict_socialsent\n",
    "        dict_dens = hate_dict_densify\n",
    "    elif args == 'offensive':\n",
    "        dict_soc = offensive_dict_socialsent\n",
    "        dict_dens = offensive_dict_densify\n",
    "    for twit in data['tweet']:\n",
    "        if dict_soc.get(twit) is not None: \n",
    "            evaluation_soc += dict_soc.get(twit)\n",
    "            evaluation_dens += dict_dens.get(twit)\n",
    "            counter += 1\n",
    "    if counter == 0:\n",
    "        counter = 1   # avoid division by 0\n",
    "    \n",
    "    data['evaluation_soc'] = 1 if evaluation_soc/counter >= 0.5 else -1\n",
    "    data['evaluation_dens'] = 1 if evaluation_dens/counter > 0 else -1\n",
    "    data['label_eval'] = 1 if data['type'] == 2 else -1   # 1 if type is neither, -1 if is hate/offensive\n",
    "    return data"
   ]
  },
  {
   "cell_type": "code",
   "execution_count": 14,
   "metadata": {},
   "outputs": [
    {
     "data": {
      "text/plain": [
       "'wetback'"
      ]
     },
     "execution_count": 14,
     "metadata": {},
     "output_type": "execute_result"
    }
   ],
   "source": [
    "list(hate_dict_socialsent.keys())[np.argmin(list(hate_dict_socialsent.values()))]"
   ]
  },
  {
   "cell_type": "code",
   "execution_count": 15,
   "metadata": {},
   "outputs": [],
   "source": [
    "hate_twits_evaluated = hate_twits.apply(evaluate, args=('hate',), axis=1)\n",
    "offensive_twits_evaluated = offensive_twits.apply(evaluate, args=('offensive',), axis=1)"
   ]
  },
  {
   "cell_type": "code",
   "execution_count": 16,
   "metadata": {},
   "outputs": [
    {
     "name": "stdout",
     "output_type": "stream",
     "text": [
      "(nan, nan)\n",
      "(nan, nan)\n",
      "(0.03646837439985302, 0.11857221433772075)\n",
      "(0.03646837439985302, 0.11857221433772075)\n"
     ]
    },
    {
     "name": "stderr",
     "output_type": "stream",
     "text": [
      "C:\\Users\\david\\Anaconda3\\envs\\uni\\lib\\site-packages\\scipy\\stats\\stats.py:3399: PearsonRConstantInputWarning: An input array is constant; the correlation coefficent is not defined.\n",
      "  warnings.warn(PearsonRConstantInputWarning())\n"
     ]
    }
   ],
   "source": [
    "\n",
    "hate_eval_socialsent = stats.pearsonr(hate_twits_evaluated['evaluation_soc'], hate_twits_evaluated['label_eval'])\n",
    "hate_eval_densify = stats.pearsonr(hate_twits_evaluated['evaluation_dens'], hate_twits_evaluated['label_eval'])\n",
    "offensive_eval_socialsent = stats.pearsonr(offensive_twits_evaluated['evaluation_soc'], offensive_twits_evaluated['label_eval'])\n",
    "offensive_eval_densify = stats.pearsonr(offensive_twits_evaluated['evaluation_dens'], offensive_twits_evaluated['label_eval'])\n",
    "print(hate_eval_socialsent)\n",
    "print(hate_eval_densify)\n",
    "print(offensive_eval_socialsent)\n",
    "print(offensive_eval_densify)"
   ]
  },
  {
   "cell_type": "code",
   "execution_count": 17,
   "metadata": {},
   "outputs": [
    {
     "data": {
      "text/html": [
       "<div>\n",
       "<style scoped>\n",
       "    .dataframe tbody tr th:only-of-type {\n",
       "        vertical-align: middle;\n",
       "    }\n",
       "\n",
       "    .dataframe tbody tr th {\n",
       "        vertical-align: top;\n",
       "    }\n",
       "\n",
       "    .dataframe thead th {\n",
       "        text-align: right;\n",
       "    }\n",
       "</style>\n",
       "<table border=\"1\" class=\"dataframe\">\n",
       "  <thead>\n",
       "    <tr style=\"text-align: right;\">\n",
       "      <th></th>\n",
       "      <th>counter</th>\n",
       "      <th>type</th>\n",
       "      <th>tweet</th>\n",
       "      <th>evaluation_soc</th>\n",
       "      <th>evaluation_dens</th>\n",
       "      <th>label_eval</th>\n",
       "    </tr>\n",
       "  </thead>\n",
       "  <tbody>\n",
       "    <tr>\n",
       "      <th>0</th>\n",
       "      <td>4</td>\n",
       "      <td>2</td>\n",
       "      <td>&lt;user&gt; el negro?</td>\n",
       "      <td>1</td>\n",
       "      <td>1</td>\n",
       "      <td>1</td>\n",
       "    </tr>\n",
       "    <tr>\n",
       "      <th>1</th>\n",
       "      <td>3</td>\n",
       "      <td>0</td>\n",
       "      <td>&lt;user&gt; nigga who's bitch u fucking cracker get...</td>\n",
       "      <td>1</td>\n",
       "      <td>1</td>\n",
       "      <td>-1</td>\n",
       "    </tr>\n",
       "    <tr>\n",
       "      <th>2</th>\n",
       "      <td>3</td>\n",
       "      <td>0</td>\n",
       "      <td>rt &lt;allcaps&gt; &lt;user&gt;: \"light beer? you mean fag...</td>\n",
       "      <td>1</td>\n",
       "      <td>1</td>\n",
       "      <td>-1</td>\n",
       "    </tr>\n",
       "    <tr>\n",
       "      <th>3</th>\n",
       "      <td>3</td>\n",
       "      <td>2</td>\n",
       "      <td>rt &lt;allcaps&gt; &lt;user&gt;: my idea of a diet is eati...</td>\n",
       "      <td>1</td>\n",
       "      <td>1</td>\n",
       "      <td>1</td>\n",
       "    </tr>\n",
       "    <tr>\n",
       "      <th>4</th>\n",
       "      <td>3</td>\n",
       "      <td>2</td>\n",
       "      <td>rt &lt;allcaps&gt; &lt;user&gt;: &lt;user&gt; you're secretly a ...</td>\n",
       "      <td>1</td>\n",
       "      <td>1</td>\n",
       "      <td>1</td>\n",
       "    </tr>\n",
       "    <tr>\n",
       "      <th>...</th>\n",
       "      <td>...</td>\n",
       "      <td>...</td>\n",
       "      <td>...</td>\n",
       "      <td>...</td>\n",
       "      <td>...</td>\n",
       "      <td>...</td>\n",
       "    </tr>\n",
       "    <tr>\n",
       "      <th>681</th>\n",
       "      <td>3</td>\n",
       "      <td>2</td>\n",
       "      <td>rt &lt;allcaps&gt; &lt;user&gt;: this jimmy fallon prank o...</td>\n",
       "      <td>1</td>\n",
       "      <td>1</td>\n",
       "      <td>1</td>\n",
       "    </tr>\n",
       "    <tr>\n",
       "      <th>682</th>\n",
       "      <td>3</td>\n",
       "      <td>2</td>\n",
       "      <td>rt &lt;allcaps&gt; &lt;user&gt;: please win it all this ye...</td>\n",
       "      <td>1</td>\n",
       "      <td>1</td>\n",
       "      <td>1</td>\n",
       "    </tr>\n",
       "    <tr>\n",
       "      <th>683</th>\n",
       "      <td>3</td>\n",
       "      <td>0</td>\n",
       "      <td>fuck her pussy fuck her mouth fuck her ass cau...</td>\n",
       "      <td>1</td>\n",
       "      <td>1</td>\n",
       "      <td>-1</td>\n",
       "    </tr>\n",
       "    <tr>\n",
       "      <th>684</th>\n",
       "      <td>3</td>\n",
       "      <td>2</td>\n",
       "      <td>rt &lt;allcaps&gt; &lt;user&gt;: teixeira on point tonight...</td>\n",
       "      <td>1</td>\n",
       "      <td>1</td>\n",
       "      <td>1</td>\n",
       "    </tr>\n",
       "    <tr>\n",
       "      <th>685</th>\n",
       "      <td>3</td>\n",
       "      <td>2</td>\n",
       "      <td>rt &lt;allcaps&gt; &lt;user&gt;: \"never go full retard\"</td>\n",
       "      <td>1</td>\n",
       "      <td>1</td>\n",
       "      <td>1</td>\n",
       "    </tr>\n",
       "  </tbody>\n",
       "</table>\n",
       "<p>686 rows × 6 columns</p>\n",
       "</div>"
      ],
      "text/plain": [
       "     counter  type                                              tweet  \\\n",
       "0          4     2                                   <user> el negro?   \n",
       "1          3     0  <user> nigga who's bitch u fucking cracker get...   \n",
       "2          3     0  rt <allcaps> <user>: \"light beer? you mean fag...   \n",
       "3          3     2  rt <allcaps> <user>: my idea of a diet is eati...   \n",
       "4          3     2  rt <allcaps> <user>: <user> you're secretly a ...   \n",
       "..       ...   ...                                                ...   \n",
       "681        3     2  rt <allcaps> <user>: this jimmy fallon prank o...   \n",
       "682        3     2  rt <allcaps> <user>: please win it all this ye...   \n",
       "683        3     0  fuck her pussy fuck her mouth fuck her ass cau...   \n",
       "684        3     2  rt <allcaps> <user>: teixeira on point tonight...   \n",
       "685        3     2        rt <allcaps> <user>: \"never go full retard\"   \n",
       "\n",
       "     evaluation_soc  evaluation_dens  label_eval  \n",
       "0                 1                1           1  \n",
       "1                 1                1          -1  \n",
       "2                 1                1          -1  \n",
       "3                 1                1           1  \n",
       "4                 1                1           1  \n",
       "..              ...              ...         ...  \n",
       "681               1                1           1  \n",
       "682               1                1           1  \n",
       "683               1                1          -1  \n",
       "684               1                1           1  \n",
       "685               1                1           1  \n",
       "\n",
       "[686 rows x 6 columns]"
      ]
     },
     "execution_count": 17,
     "metadata": {},
     "output_type": "execute_result"
    }
   ],
   "source": [
    "hate_twits_evaluated"
   ]
  },
  {
   "cell_type": "code",
   "execution_count": 23,
   "metadata": {},
   "outputs": [
    {
     "data": {
      "text/plain": [
       "count    686.0\n",
       "mean       1.0\n",
       "std        0.0\n",
       "min        1.0\n",
       "25%        1.0\n",
       "50%        1.0\n",
       "75%        1.0\n",
       "max        1.0\n",
       "Name: evaluation_soc, dtype: float64"
      ]
     },
     "execution_count": 23,
     "metadata": {},
     "output_type": "execute_result"
    }
   ],
   "source": [
    "hate_twits_evaluated['evaluation_soc'].describe()"
   ]
  },
  {
   "cell_type": "code",
   "execution_count": 28,
   "metadata": {},
   "outputs": [
    {
     "data": {
      "text/plain": [
       "dict_values([0.6833168472714036, 0.466564923431605, 0.7237276519549992, 0.7298797063358013, 0.7115301483236561, 0.7287661439644219, 0.7235634735799794, 0.5552279060650454, 0.2822738340682987, 0.7259811792911813, 0.6170247815476719, 0.639008031203559, 0.5881952013285665, 0.23318931616204558, 0.615339529186282, 0.6997557298120012, 0.7699835758865097, 0.7262080031969591, 0.2572710053942658, 0.7877430053350344, 0.5029530539346037, 0.5272375149782841, 0.727423281696214, 0.6394097855241145, 0.5713150111619552, 0.8366119907895717, 0.146586426573377, 0.7069466506214575, 0.5022630130100537, 0.7203765495839461, 0.1667024847940609, 0.5216761398625618, 0.706927032016293, 0.5254911720549981, 0.6770705319549255, 0.1964474989466585, 0.7145183346491926, 0.7910814873828861, 0.7803942305893982, 0.7569312559729541, 0.7856484148795163, 0.6697595853927378, 0.6787361300481846, 0.7116062514536143, 0.214882054244952, 0.6979403810541838, 0.735863418759665, 0.7813304012744301, 0.7278433097461969, 0.7051418147171067, 0.7604952530467571, 0.7513304058935238, 0.6030284754879457, 0.47702187930933654, 0.7392704935960209, 0.7128763670785458, 0.7609486839697447, 0.4741974967932796, 0.5614630592147696, 0.7844013000701384, 0.7924174233528768, 0.7572388244433141, 0.37277679152297, 0.7431599392384196, 0.7298491009213268, 0.7538362068046097, 0.7218255205733701, 0.6823882573073179, 0.7882932179579829, 0.525934302854575, 0.7588893187470751, 0.7801020020400224, 0.5372219878981656, 0.7183083577461331, 0.7111606782275147, 0.6498911506959929, 0.7940960209544183, 0.6339569340022662, 0.6725630593871622, 0.7089054720836496, 0.7167952685580933, 0.5567429714695912, 0.48174170264160643, 0.5301169888299361, 0.8158384316171138, 0.7435077609554415, 0.7057193553416883, 0.7737486533044028, 0.73247756997352, 0.796981291618932, 0.7757070395340875, 0.6187324651406146, 0.7343825490124457, 0.6872707261217049, 0.4457093878899225, 0.6596518875817596, 0.20122650772633346, 0.722269540644299, 0.5806595461555005, 0.733777708896287, 0.674369277404468, 0.6076977188310804, 0.6447948439947893, 0.26893481628813376, 0.6093853922760659, 0.5326325649575172, 0.3458940693572791, 0.4037278203459198, 0.19211138844008915, 0.32035588826780453, 0.35017673725628734, 0.6774837231296935, 0.7303734357828314, 0.4874844050583563, 0.7722130583657701, 0.14869963533012892, 0.52987375598823, 0.688853985395135, 0.6513112961754285, 0.20562915692459202, 0.733275439170955, 0.5076979318808326, 0.7820641475391569, 0.4457702314528704, 0.393864938047677, 0.6532619515109459, 0.542075439931251, 0.6749360364403104, 0.6534215235170401, 0.597917759358946, 0.6704589925862035, 0.7431567490469362, 0.6231876756281346, 0.761800904902246, 0.7181665224877676, 0.7804728681703503, 0.25527665960000157, 0.5051716917755859, 0.663018471010823, 0.730114565387592, 0.7780993016916309, 0.5252202349654691, 0.7111074578741877, 0.5622680857168026, 0.7266843817673022, 0.5593448642581171, 0.6417100743682306, 0.7724171370654005, 0.7345620233941517, 0.7581485161241649, 0.6713911066522227, 0.7971935098790992, 0.7335352129117875, 0.7031715001333976, 0.5341198111511012, 0.7218778555978387, 0.7427072609623427, 0.7104203183937494, 0.7252161551934082, 0.7480857502799455, 0.7250606505905447, 0.7099068111988965, 0.4973676948242595, 0.7653367799613581, 0.31736255930876944, 0.728450506847907, 0.6569418491022316, 0.7424183360928214, 0.2152979782582296, 0.7099830840381144, 0.7399179830749704, 0.6552018159711868, 0.722343779753622, 0.7031111509484893, 0.668818697840866, 0.7345951823720074, 0.6916652155276503, 0.751917692295766, 0.6750088105467669, 0.5886808084963473, 0.7220628456544559, 0.7195825988680374, 0.6708475215372818, 0.7015335685713526, 0.5172490811513789, 0.6764922024378501, 0.721603423465353, 0.2410476382836971, 0.5520123650703626, 0.7518607581373392, 0.5075921094672478, 0.7893966908788472, 0.4279597116041841, 0.557154328080109, 0.15520271658597276, 0.6666977425486282, 0.7016685692992686, 0.729877651830018, 0.7913592349175894, 0.7071240847667242, 0.5030650992156812, 0.7112236002230025, 0.7700877850072324, 0.7380276161495193, 0.8323684173056812, 0.44762302370381674, 0.633399209716135, 0.8375636943089172, 0.8041392729332597, 0.7343271574691169, 0.719158627530312, 0.7262483270419504, 0.4951852499824129, 0.7824142193689752, 0.5188213776371523, 0.7636123465781167, 0.7916381757993182, 0.20414392605784903, 0.1789948779098939, 0.7465156579193079, 0.7218407450926696, 0.7600996167299452, 0.6996887979661359, 0.4326015217610935, 0.31179722482575684, 0.7803261764595576, 0.7643509497646163, 0.16505551298435817, 0.6438789909299056, 0.17910953302336025, 0.6792799743967493, 0.4864314676249968, 0.11906173185515133, 0.7085280156539704, 0.4796622235192306, 0.13937140289144395, 0.1960166245264769, 0.791433282830525, 0.707755807659517, 0.7562552101502715, 0.5280747973363896, 0.6950713116589691, 0.8539686822596712, 0.7065410295464868, 0.5042775973734285, 0.7083547443729723, 0.22311788402913826, 0.7239217021324633, 0.7463237904923709, 0.7529897820374507, 0.2940812493919756, 0.7945018973570318, 0.1375669396221343, 0.6942114300630727, 0.7236018429607051, 0.7451503017615086, 0.7319149012890934, 0.15943681917708585, 0.76829639282877, 0.6965108600878516, 0.7970731616151409, 0.41189345931695737, 0.6818973563268311, 0.7309130317966482, 0.7251626123004723, 0.7922025502742551, 0.5450700261305493, 0.6055999468806742, 0.534252664699877, 0.7183066650660257, 0.5104033938975021, 0.5260571741429181, 0.7211237247932536, 0.7603587507629835, 0.2499542240980633, 0.15393841699574912, 0.20119991964668066, 0.5096438585208264, 0.7386882026972805, 0.6936294519621496, 0.7129145051236938, 0.7672862796800447, 0.7937379260456127, 0.6638645932625827, 0.7459911315121153, 0.8022028959906762, 0.776357213915272, 0.6598297021728096, 0.7890617251047195, 0.7329513748804032, 0.6560811998695891, 0.7271383756946701, 0.7649806718600385, 0.6887433874016977, 0.5556547981646714, 0.7006358330649847, 0.6957973454804204, 0.7453073138799404, 0.7036218744705404, 0.7003200314356381, 0.3937462215790804, 0.3652343569278835, 0.1676959666268627, 0.6894423435225697, 0.7346855833899584, 0.7351989581243109, 0.723496036018831, 0.7383650577860886, 0.7447004318340946, 0.72493230952179, 0.5036552830509855, 0.39571294430858234, 0.7088925673106449, 0.32831139672102855, 0.6649612678459781, 0.5220402290193616, 0.7230505086041776, 0.751571965927877, 0.7838932830025667, 0.6961850346237978, 0.7173733568691351, 0.6053142733631146, 0.9177844838919462, 0.7569053951620286, 0.5611244943453433, 0.7724352178044545, 0.38505134182162887, 0.7235762703269059, 0.7299433781467052, 0.7521990947000885, 0.5068082379620837, 0.1327405387022536, 0.7100069809746413, 0.870580700163843, 0.706347494807683, 0.594000644472599, 0.7292083471090722, 0.7883854529568359, 0.7892741343981547, 0.7752117994333962, 0.6441451614220527, 0.7314838909722777, 0.7265003150102413, 0.7152502918600808, 0.7702428989194866, 0.6585746067496833, 0.7845952078254345, 0.7580013046791506, 0.7922684097957331, 0.6399577891707554, 0.8402374083590943, 0.36721630053774534, 0.13610791003988496, 0.7475947130372027, 0.7736783347406849, 0.10576253923941686, 0.5560330404162289, 0.7872507071963359, 0.45438455602605926, 0.2405437926200008, 0.7927025173492619, 0.7434748391745972, 0.5788420853271421, 0.8427600904813881, 0.787651652765534, 0.7685693498640112, 0.7339752119901827, 0.7636824340163963, 0.6923998392679733, 0.7335185951567943, 0.8080284756852014, 0.4009873075659694, 0.7766973116561057, 0.6944511845864296, 0.20730481366534462, 0.24939793660249843, 0.28802911992742103, 0.7244833614984088, 0.7545043060742024, 0.3345759419257569, 0.4733766620543293, 0.2558782604555561, 0.7180055814271317, 0.6258076247806642, 0.716599646451146, 0.685793594990446, 0.7181351112420861, 0.7522283428388717, 0.7741212377191318, 0.731222888602976, 0.2595030225603035, 0.7425129984164415, 0.7415450238458545, 0.7461420614004582, 0.9315024295414237, 0.798194504888205, 0.4134931656316578, 0.7068913540713845, 0.6897801258543085, 0.6867874009157019, 0.77387902899612, 0.7376392701349821, 0.15926878293901334, 0.7204271762441739, 0.454748530374221, 0.7256433953453251, 0.7836731203236826, 0.7687861192218733, 0.7916158549538059, 0.7743552897718733, 0.5011843052339247, 0.5988480487901785, 0.3134514741400039, 0.6399089802432768, 0.7897376327324813, 0.7410161144595642, 0.7097586934599032, 0.7798172202301237, 0.5263724624436539, 0.7209619862535995, 0.7873423681793779, 0.6748055326254379, 0.6881508303846675, 0.67185172106828, 0.6725712987451723, 0.776322560721841, 0.5890314771522628, 0.7146448553180996, 0.3163902322168663, 0.7092101870768994, 0.588898228171222, 0.19656986090566597, 0.6870522956230936, 0.5074402532042744, 0.7348888578907715, 0.7377781557543353, 0.48257283562610065, 0.2145519188036448, 0.7462419033936605, 0.5722979889519701, 0.6683596619547417, 0.19185246211615808, 0.7623577721273844, 0.6380714132072954, 0.6244837585422203, 0.6475213905450581, 0.5255082101596256, 0.5408116685709113, 0.7546606647660178, 0.6819925051004484, 0.589053616658259, 0.715671948919618, 0.751040224879812, 0.7278709314264367, 0.5325158304478197, 0.4237814069596368, 0.6704809431090031, 0.25540450059715575, 0.838310671417915, 0.8117834378698928, 0.7141253176179984, 0.733615848039377, 0.11833748716508095, 0.7425357799524634, 0.7443456705184697, 0.743096836115467, 0.6974354735296583, 0.4582347725373417, 0.7343649945131996, 0.7430204704184689, 0.548457259091576, 0.6088519859986777, 0.5585181158029031, 0.7131020567704427, 0.7353268275668929, 0.5234650249540698, 0.7725059006710157, 0.7421755463173513, 0.19178400158285588, 0.7234592034280257, 0.38209561332917286, 0.5211757945199688, 0.7340606999846285, 0.7991687220803773, 0.16983933241837332, 0.520634397683185, 0.4510005543305099, 0.7366379485490344, 0.765975235096498, 0.6638890310797095, 0.42941691869736165, 0.7863042976743493, 0.7600759934379798, 0.302384661599495, 0.6912341855493674, 0.6739608731685582, 0.639437240467325, 0.7468226371021103, 0.6813437963836276, 0.7129145219276809, 0.23217307596911546, 0.13468292390432232, 0.7152565412760847, 0.7550080112068572, 0.6654993555183382, 0.503147809715265, 0.5521901368379931, 0.5847479660835818, 0.3091064492385728, 0.7434858998725107, 0.694581705341124, 0.7204365096103031, 0.7768422822977633, 0.7057044518739447, 0.3754102483680666, 0.6536480701851612, 0.5456276115085377, 0.7549501015887158, 0.779167087994883, 0.1414969631984632, 0.7804791806585614, 0.7009610647693522, 0.7448056521923797, 0.14931212854951137, 0.7313535635974573, 0.5281376976384015, 0.3857892363724148, 0.7804262565220246, 0.5798941406281031, 0.7528951729079688, 0.6687578499893256, 0.7158013742366008, 0.7350983075443325, 0.784806025207598, 0.7668569029724567, 0.729021248416023, 0.6944315094299816, 0.7269348947776426, 0.5093098063989496, 0.763448214598301, 0.7146756407376352, 0.7946100637011057, 0.17832808447257878, 0.7497861259957846, 0.5265181283342728, 0.6506776050868043, 0.7798959486561116, 0.730003363017065, 0.5054458389138532, 0.7908337066590839, 0.4555515589305621, 0.6549205828889543, 0.5010307721814037, 0.5867069222414137, 0.6955033102384417, 0.25246726971639216, 0.7272334225774416, 0.734025744515949, 0.770913476375796, 0.6734651990032653, 0.8023488525531041, 0.6970100224000773, 0.46640320003928154, 0.6995679441314316, 0.7284691489425749, 0.4179645777998787, 0.6914915469965458, 0.764916597250382, 0.6999870831620455, 0.5953714073702936, 0.5834415617207431, 0.6614503766196717, 0.7752842910485189, 0.5709609826590997, 0.6739782166257733, 0.7758327298867532, 0.657169589538469, 0.7150771918583146, 0.6256802207604231, 0.7684489299866301, 0.7947138448773519, 0.7475562018607219, 0.7102759792275432, 0.7493889275407759, 0.7088867557702954, 0.7592583135535239, 0.6602100727420244, 0.7451813283054008, 0.7716362151415327, 0.3078140036015282, 0.7363175328879581, 0.5310812524667408, 0.38012655933920997, 0.7261008171277692, 0.19649640462303739, 0.6229945431803118, 0.7613615639309498, 0.13287021609072888, 0.7698247425956438, 0.3630664963141686, 0.1466742156455025, 0.7559698969457765, 0.2832073338540088, 0.5077592450934129, 0.3827500747534595, 0.2545460848585307, 0.6927510367747782, 0.6644240433750274, 0.5058734143563081, 0.743386333043324, 0.6043398989346704, 0.20619507709214907, 0.6886132515536572, 0.5172884168582356, 0.4391893528353273, 0.6857120368984683, 0.3920144839071815, 0.7348112750618646, 0.3305306095025004, 0.11528596104758189, 0.7105232980437652, 0.18249705183669324, 0.766564916544724, 0.7600107902163868, 0.508007344582478, 0.6554310307103238, 0.369756259469238, 0.6968490277036025, 0.5898212808133756, 0.7507443853691096, 0.7534683643138457, 0.5323565332375539, 0.7273240751373157, 0.6578709459520902, 0.7351716681143913, 0.33202990827245793, 0.7476900246627302, 0.7509334861440474, 0.18594349766249402, 0.5848330390340455, 0.5311776170790566, 0.703752186782548, 0.6977885830850373, 0.7235952782984555, 0.4210626044912507, 0.39357417517776705, 0.2693056222505131, 0.5206158712772224, 0.786886343685687, 0.38378642460766016, 0.15083228539693166, 0.8544432963716296, 0.6978401318040759, 0.7686737119025232, 0.6663084547307138, 0.7579047738670354, 0.760672601824469, 0.7754353155778608, 0.12184282290858413, 0.7294613327444348, 0.7858683816130632, 0.5167000542958309, 0.7399140124822988, 0.2115026587413742, 0.7627242101303999, 0.7425070984494204, 0.8747064500132369, 0.6990357335332432, 0.7820212226972421, 0.5306405848649134, 0.8520493178538198, 0.7449216517886422, 0.6848743677169249, 0.667596685409639, 0.20349547262889417, 0.5322652550643426, 0.5066487290899979, 0.6434552983264873, 0.681951499448654, 0.7186568249873693, 0.7749708673849663, 0.5888501206448632, 0.40182245943884853, 0.6192191469005985, 0.27022999157233735, 0.7196862865851497, 0.8539142057817165, 0.7193010681590852, 0.7746830027606767, 0.7785285742961434, 0.7177695842841074, 0.26599646436472274, 0.4498692063488293, 0.13633853898557058, 0.7308733603129773, 0.7300235923788807, 0.4807001878336656, 0.7845981709585838, 0.37220358339766507, 0.7420623002103744, 0.5316416306799046, 0.3849772000899094, 0.7513844660022485, 0.6911609486785424, 0.26787264712909586, 0.7325458349807238, 0.33504512383663426, 0.7537076589632687, 0.5323561071140439, 0.63054015418736, 0.7225739030632871, 0.7645537621392927, 0.22726201382579647, 0.27985186640676396, 0.6446893022670588, 0.6681569571119864, 0.6789916286988702, 0.4843079503760598, 0.5075410010426735, 0.503010698902283, 0.36178393148667465, 0.7307481404072534, 0.7058012919368998, 0.4372509985736845, 0.7425469951544725, 0.5039683320225511, 0.7481432529944063, 0.7742139834853785, 0.7314497126219285, 0.5080370503118328, 0.6348785007899166, 0.7375417594154949, 0.704163949727207, 0.18104467416128062, 0.15333831712544416, 0.4220485123658076, 0.7195332655824777, 0.1697323336123706, 0.2901362452176443, 0.28521618827876166, 0.5550959249062929, 0.6108106242348605, 0.5752595730731623, 0.761838734731949, 0.418663737918255, 0.5018561114794307, 0.7406625032320242, 0.6288283336188731, 0.7426905091111318, 0.7699891410164588, 0.6924895381740777, 0.745932736494918, 0.7129289720751004, 0.6912241276708996, 0.5391634845959642, 0.7577991556421655, 0.15996896965155413, 0.5219272651329584, 0.661102052599698, 0.7601686607069716, 0.2925783737368074, 0.7537173247127286, 0.7188601266319069, 0.5715830128724896, 0.7561330034967731, 0.508671808079823, 0.7426091484900103, 0.7203918007205597, 0.1344148698471895, 0.7217799866643709, 0.7759858451133697, 0.5780975965202473, 0.6713332855180607, 0.7145327625368907, 0.633887434370691, 0.8123776119756355, 0.7068104872490478, 0.26751820598596665, 0.5247320629897173, 0.7473804724409098, 0.7596059092512066, 0.7341142460754825, 0.7155584898582132, 0.7366783468328305, 0.7656866712951222, 0.17164609961937102, 0.7179274548787976, 0.7113744123260332, 0.1587091053197271, 0.5114637188195572, 0.5436122018528414, 0.6920082654351252, 0.7422810910238888, 0.525203412727212, 0.7847338615825733, 0.7316945529926174, 0.898484274739866, 0.3796071509351521, 0.7669036465777983, 0.7046178312568381, 0.6488267077995721, 0.5833824076981421, 0.7957762310366482, 0.7106068124817667, 0.5591044730367648, 0.700739708793372, 0.7856733659197851, 0.7439617623584047, 0.5107928532418665, 0.7188590228971118, 0.749906421441593, 0.7159299894493548, 0.7087202776659383, 0.4789639086678134, 0.48648072230813916, 0.6596652263399945, 0.7305314669456066, 0.7763498468537255, 0.6971307006829962, 0.5034356458272288, 0.7048042770375205, 0.7567455045403259, 0.5146571247332816, 0.7547867800684404, 0.7557905144004509, 0.3052236205928944, 0.7256729073590251, 0.530462016419144, 0.18593291209664983, 0.2253865389502069, 0.18946638085231543, 0.14564239633683684, 0.6221641906926618, 0.38041478433729775, 0.5902133263875936, 0.49348291764941465, 0.11881152493984341, 0.39918597718320226, 0.771417245946142, 0.745246655096929, 0.7626904527958852, 0.7030023089391118, 0.8048074709290415, 0.5876517432171859, 0.7315828673616412, 0.6947002997090627, 0.7536197836922777, 0.6069197268655399, 0.6954414368956308, 0.793199528303708, 0.7689690481070333, 0.6316153937939332, 0.7418458694262334, 0.7565704147553649, 0.6908786618784997, 0.73895915587833, 0.7534814716631121, 0.6337131841327364, 0.57384054927511, 0.5779741357968489, 0.7499411133589317, 0.7958734332303808, 0.7449583140698149, 0.432262209665403, 0.5402018198537968, 0.5227614635778765, 0.6881990235520633, 0.7769467643062699, 0.6948299140654929, 0.5658809811256073, 0.6475945582536721, 0.6632843568873976, 0.7287699503469568, 0.22987311468795238, 0.5285446161054447, 0.8189889084724715, 0.1582003078456968, 0.13186061663116302, 0.7092338965891193, 0.6528871298100297, 0.7213980142853008, 0.8025459191790272, 0.689977073400639, 0.7067348545070389, 0.4749947542704632, 0.7502646096281503, 0.4294173769477398, 0.761357608766228, 0.8013568956517343, 0.7648523061260044, 0.26348599985924087, 0.707033559029136, 0.20383459033549625, 0.7406932902261163, 0.7019095214027278, 0.757455307166556, 0.7029276307270312, 0.28153248482306414, 0.7659581175558291, 0.5030483498205935, 0.6597098532592528, 0.546550334064687, 0.7126596741269542, 0.7764904119029122, 0.6912572522709312, 0.6818981842332724, 0.5400734909768022, 0.6787514848072848, 0.7941733783598313, 0.22299696287922452, 0.7161698911718541, 0.684015403253404, 0.15066073691418513, 0.7431285721883745, 0.6776858775719199, 0.7670761291034305, 0.3250079805337643, 0.7141786188181819, 0.789997715915062, 0.654006248632729, 0.6538464624192228, 0.6755020665015554, 0.7490869047480198, 0.7153927577433022, 0.37836527839468087, 0.7886874500479306, 0.1606218095713386, 0.33553931721539865, 0.6973070446794506, 0.5817671488861502, 0.13085661457538958, 0.773664063373574, 0.7383141463210712, 0.6765905444141334, 0.8027019079000592, 0.5345049220809646, 0.7077853842506228, 0.7062987743565857, 0.7602397327332523, 0.7372988112918919, 0.7147240298362968, 0.7186834049941074, 0.721140760117262, 0.7444928493010967, 0.32239200152643593, 0.7609998138004013, 0.7319113828228225, 0.7119934294202672, 0.5200388806193647, 0.2904108682212425, 0.46996271310838594, 0.6931268030797504, 0.8619268809372309, 0.5836350694119474, 0.7132780589004277, 0.5101850284854894, 0.6247649622797833, 0.6988099075460141, 0.5522784033308192, 0.7183943780085396, 0.7305380491905373, 0.7619816095250482, 0.7662213146959095, 0.722349906994058, 0.5038341732509616, 0.6987310182566928, 0.6885117453782199, 0.34890812948143457, 0.7743821841089592, 0.7215030982057736, 0.6995470750154089, 0.6399257335121128, 0.7706634712112063, 0.5106908202731009, 0.5314669184783493, 0.6407133812748852, 0.7370383485711238, 0.212969887945029, 0.1738564785147511, 0.22352961259187937, 0.6845188727818342, 0.7107752142406473, 0.7221407013348535, 0.7536579302153587, 0.6093846261086785, 0.5177152025862324, 0.15606992425666819, 0.7094435530083737, 0.15452666633056708, 0.39262897484219356, 0.8471559171326871, 0.7622208478718674, 0.7816803140255373, 0.5031792179659033, 0.16705246889480949, 0.13189815732194266, 0.7420647595514258, 0.7157389181971545, 0.5048990390243429, 0.786803175803817, 0.31879662597578057, 0.5200571951044636, 0.744443509024299, 0.7170930120951924, 0.7951567109437389, 0.7383991986378361, 0.7332687825419303, 0.7643626504038105, 0.11645853850425106, 0.7209461704425839, 0.7606380227284887, 0.7698393169486484, 0.7747719205580049, 0.6361736905255543, 0.6370829259040176, 0.13815740549610472, 0.5312994165640806, 0.7737759953947064, 0.6105296874226243, 0.6058323703977398, 0.7149731345308256, 0.5972038774990996, 0.8165077206971906, 0.639247644174841, 0.7484837305769403, 0.6884379740849929, 0.2661436010433182, 0.2391558005585062, 0.5915328989474814, 0.22281330434787855, 0.23374476235364583, 0.5773632561326872, 0.7920780938404997, 0.5993200069028687, 0.5990535264783297, 0.6626855555626052, 0.8322146031874643, 0.6658698771034866, 0.5527932205468489, 0.7391039780304859, 0.8101827885200051, 0.6354600218933121, 0.5041900245260243, 0.6743152735479431, 0.6789538138954004, 0.5667918169530695, 0.28353031695403735, 0.6704607886029643, 0.7445892706102993, 0.30802973682200907, 0.573428891010576, 0.428043574225048, 0.6553058883785102, 0.7563803660016237, 0.5226393350056797, 0.6220599613825096, 0.7314349436816088, 0.6860160140998262, 0.5024250896239596, 0.6519772533748731, 0.7620455740862053, 0.7145567370067156, 0.7187857040619858, 0.4537199595140715, 0.7534083831490945, 0.37797485729429336, 0.31538034891427147, 0.38220171642384415, 0.715512860184512, 0.3058322399893437, 0.7307592225779209, 0.68165606258959, 0.7591693866782836, 0.8372096284462739, 0.6890509432773295, 0.5872781556242728, 0.7503773925594271, 0.1372245972604692, 0.7998836683219145, 0.38343567908584836, 0.5145440533228205, 0.4592863619162728, 0.5866417568969947, 0.1748372822080091, 0.7076764486737621, 0.7063896803555705, 0.7368285217754554, 0.6717571904211765, 0.19007074398793025, 0.764639523266123, 0.7452063167573627, 0.7232066529621445, 0.7302634821655907, 0.7051638059700389, 0.3701767764012284, 0.7615997575541278, 0.755411226850509, 0.6048570942638034, 0.7917936159179584, 0.7611376615452721, 0.1424135624769819, 0.7440191844721362, 0.7631184870437546, 0.5990397516231613, 0.686509958571932, 0.7769268119232021, 0.598142477566684, 0.6884053928840015, 0.5795349044768573, 0.88440662596791, 0.6464928231526293, 0.688815169247163, 0.2703087214982389, 0.7769779187151622, 0.7193253586899317, 0.638994806119421, 0.17058729557152044, 0.6422009251431527, 0.14311992664226625, 0.7566841892356654, 0.7324894794738761, 0.36722381750176875, 0.21037890815937246, 0.8512215047957784, 0.566216086633793, 0.6823607061655438, 0.5491620824321792, 0.7248728316374927, 0.597129141062817, 0.2932863612322841, 0.5051016632109762, 0.7231738663033394, 0.6112929655988829, 0.5271038771134039, 0.7839434934670726, 0.6945285206413666, 0.24408373502026198, 0.15052024124678304, 0.7222140064779933, 0.5337070003396944, 0.7184564185367913, 0.5138230576225963, 0.6850242444393497, 0.4663589094935549, 0.28133072969784717, 0.3658249135214191, 0.7612576987725321, 0.7712593992859704, 0.7174087320838806, 0.3776713188313258, 0.7402770313855551, 0.7828259474710363, 0.33533955996351683, 0.6023244031710736, 0.5563125731409818, 0.7123013194961016, 0.7197280453421879, 0.522923373584282, 0.7345312028583852, 0.7107332522667312, 0.5998544543928341, 0.7657446076302938, 0.7091895442889024, 0.7371340300365439, 0.6567364124607511, 0.7735237380380028, 0.7554012718458823, 0.7398201173004404, 0.6511700632804005, 0.6441081024825202, 0.7435503840295207, 0.21646397587786861, 0.38310057322018654, 0.7020036456026124, 0.6289257082184473, 0.1520743442151756, 0.464835510405943, 0.5876621550426989, 0.812352015551899, 0.7330247993623923, 0.5189828277266412, 0.7903661129896539, 0.5508977444928543, 0.7930121377115246, 0.7743602752463551, 0.7295047696250991, 0.5215689543933261, 0.6922188147108264, 0.7752824394937511, 0.2869430322342657, 0.6553885569755789, 0.28908680168469564, 0.9348770934101176, 0.7733832362959417, 0.7307465181850099, 0.6251077741376253, 0.371847702406571, 0.6933259561928908, 0.3653691912422146, 0.5505444059466372, 0.7542038913671932, 0.7035823253520582, 0.7885255900519029, 0.9170962679051746, 0.7855882158898957, 0.7869296313075448, 0.3001965135876183, 0.601990060243759, 0.5192386026889788, 0.6679069529750802, 0.7419177444649643, 0.7475725896396687, 0.7554159899129844, 0.37987874002234384, 0.6510999880485663, 0.15373889982293462, 0.5551176455796597, 0.7791133847221893, 0.7551995745333583, 0.5546415987031866, 0.7618154597574661, 0.1906790099391951, 0.72867916133712, 0.7914165036972391, 0.503019821063524, 0.662067960278249, 0.6676074910505607, 0.7274335252927083, 0.7787539629179573, 0.5054520139534523, 0.12321603762426206, 0.6511374542951607, 0.7126854936038134, 0.38387359219412803, 0.7286319799118939, 0.7727662918185247, 0.6851860741957319, 0.6263672318332407, 0.6890666811041943, 0.7227325774084602, 0.7203938182598131, 0.14189814513391297, 0.765932071121343, 0.5843424425023088, 0.5634619808262874, 0.3925280250612024, 0.8379211785189883, 0.5497329311716725, 0.17313575766268693, 0.33605182787574633, 0.24607892274065926, 0.4882258285022502, 0.3769651864943245, 0.4704178102057022, 0.6995329575586697, 0.7826782020536637, 0.5036064051490202, 0.6835187056402776, 0.7571248058835052, 0.828170715419976, 0.7178654328325721, 0.33781047919747326, 0.7930503262805182, 0.5583289724967768, 0.7579098882781081, 0.6231788906850414, 0.3554771728741037, 0.22226845726291047, 0.6920531093124337, 0.7167864044324849, 0.5264004863691015, 0.5065036597092043, 0.553565175352949, 0.7552247415634721, 0.7485728731796543, 0.17740268010092466, 0.23858977204534068, 0.660494549518242, 0.7489713867708983, 0.3502816676871011, 0.786156893404546, 0.1842239059615147, 0.7572302181858137, 0.47804299170298303, 0.17304179965367783, 0.779489352892852, 0.7130286005224259, 0.6826651141493981, 0.5727137039620187, 0.6269398454461431, 0.512675854551311, 0.654850091536372, 0.543039300647305, 0.14945243145282022, 0.5985095234011544, 0.6548444022953792, 0.7597077744672924, 0.7299167435321106, 0.7170413717370615, 0.7781614474913819, 0.7933423770547443, 0.7832405172395133, 0.7464488953093483, 0.7936678632198629, 0.5309060813498941, 0.8611029637245531, 0.1687737679293612, 0.7169777155661209, 0.5315149181569345, 0.7340184097714252, 0.800219359099548, 0.5219810607419467, 0.5009412943539641, 0.1883545249707752, 0.13826812462143573, 0.7585201605713918, 0.7722683776395558, 0.6968392738058898, 0.5066606137177493, 0.14480828533076087, 0.721056263977814, 0.7182397912018605, 0.6932666307253443, 0.2132582076145858, 0.6927822643127254, 0.6746833384034628, 0.20661313284784688, 0.6795762231933027, 0.7717356410106001, 0.7118220431715341, 0.5524565506350937, 0.46422305952805865, 0.7906429833261238, 0.5103300660891872, 0.20569511651536526, 0.7362593618299861, 0.599561992689362, 0.2853617663992077, 0.2836756731766346, 0.7307811596825318, 0.41575389522607026, 0.46994022556906073, 0.4935439399111487, 0.5280563029120972, 0.6995032019099563, 0.5009811484043907, 0.7053732565858585, 0.5640903434228626, 0.7083342689716356, 0.6847521046908472, 0.47598677766723657, 0.6942559883696072, 0.6169547178292819, 0.6080298843332672, 0.6529740961590141, 0.5990537656673847, 0.4461899821938827, 0.7364936475602177, 0.6592351470422453, 0.6021910791735511, 0.6809510076167703, 0.5049249910573534, 0.7052462386002227, 0.6676011475392167, 0.6883484937638215, 0.5902016264752488, 0.7473508590209956, 0.563728029727672, 0.5552772470924915, 0.7754382174192931, 0.5184787424402416, 0.5101747723606107, 0.6875262293837497, 0.16039640486617326, 0.3829939202480006, 0.7772105902435233, 0.6478649025919141, 0.664460193706787, 0.8651538475007506, 0.504936973242168, 0.5907526468683516, 0.4724481248322802, 0.5612780366748714, 0.5120378497396552, 0.19032182296408426, 0.7645092067115141, 0.736687981892454, 0.7487775216334402, 0.7302391028117277, 0.2080825153092885, 0.7033904334660208, 0.5339978963785238, 0.6252805985513289, 0.3939035312319425, 0.6158307794023598, 0.6940607588032291, 0.7743854436481747, 0.7607406382502102, 0.7081949100302893, 0.42616137647128544, 0.6540775843618857, 0.788391180175221, 0.11921640813593035, 0.7231681359799115, 0.7228644844729948, 0.7738371741152361, 0.7431353118012001, 0.5292052543848133, 0.7203833403980112, 0.6770417658133815, 0.7700810942007679, 0.8043325688576909, 0.14261714628674918, 0.46714469461832686, 0.7145624445545521, 0.5741172034406293, 0.2939569410826623, 0.7133223078543081, 0.5331557051232615, 0.7377963342705955, 0.6544131897875889, 0.2505127051065689, 0.7756066539522491, 0.5951858076844622, 0.19096996563139582, 0.6579794306139458, 0.5704173212663098, 0.7377453164391018, 0.764706262325259, 0.7155031857135732, 0.7685775321473344, 0.7341906262716278, 0.7716453856422867, 0.6652623529421037, 0.7048072046920035, 0.774998108896122, 0.6445222734388839, 0.15341670373184252, 0.7371505660436883, 0.7762996265318661, 0.6773188796721794, 0.7953821938191205, 0.7503965746221429, 0.6733555645588358, 0.7758750020099828, 0.6803215008881389, 0.49662023052232046, 0.7740114601544195, 0.12456444229070335, 0.6225808732358965, 0.6633059554546884, 0.5175532949210385, 0.7077397037166473, 0.7404296017751684, 0.15482355739726655, 0.7226288376519329, 0.7251531516572666, 0.7724296513599601, 0.5275290930598888, 0.2533497680637934, 0.6395762537829603, 0.6494968901630724, 0.5502888974303176, 0.6437209157731533, 0.22165701607036056, 0.7295218572770634, 0.6189707185519732, 0.5706298957737217, 0.7315707144881162, 0.09430248713966492, 0.7063880616420141, 0.6660454719731257, 0.7271685135260667, 0.6882980953285867, 0.6386143343704003, 0.2609480023434067, 0.5121610914055578, 0.5765707778546456, 0.569047720225605, 0.09928895446333325, 0.6094900283848179, 0.7125463258291325, 0.7384452834192883, 0.7230472676032411, 0.7393886746991245, 0.47108594135656684, 0.5009678753733652, 0.5832136689025569, 0.672835684830245, 0.3766584587678981, 0.17503502153689285, 0.7504137099380523, 0.41589032944295345, 0.6924297213266757, 0.605293548894229, 0.18381924168512176, 0.7379166931235848, 0.31541808718149233, 0.24234257658317612, 0.5499338439541448, 0.20992141238996206, 0.8002642541137712, 0.5744799697153874, 0.6245173282102268, 0.4626329138299098, 0.5444288437144619, 0.5562185527447135, 0.764762704984641, 0.7113073232859276, 0.5014901170836549, 0.17240592451261025, 0.754793609086343, 0.30330932289294227, 0.12953168297046502, 0.7566947255675177, 0.645932998393133, 0.682907720341996, 0.6794077410603703, 0.6945424627973765, 0.4428356332143928, 0.77048919513296, 0.5520971161714998, 0.675974640614134, 0.18415876139151185, 0.7825123823878068, 0.15004494701440527, 0.5785796696009862, 0.676779663019177, 0.49981466455543466, 0.6901172669061244, 0.7723318513518103, 0.1280521083748693, 0.7876951308519026, 0.6160398622212733, 0.11567857695700805, 0.6683807731969205, 0.5411587590738536, 0.4348818942408198, 0.4077726501113201, 0.7430631486017687, 0.5032793199734067, 0.7170837310149633, 0.7485131109687698, 0.720792564383189, 0.805463942717584, 0.7561425801664985, 0.6066101428005483, 0.7849477922805157, 0.7769918433004472, 0.1737176363998566, 0.7180318368009608, 0.7070038948725729, 0.6763114815522545, 0.7228312627324027, 0.5134398684257143, 0.52189663116798, 0.5685115985610136, 0.5438980430295327, 0.14851352910223276, 0.6376167251427605, 0.7780970505900102, 0.14401091798073576, 0.7637407505561471, 0.6919269871378709, 0.7066394005846084, 0.3851907854902516, 0.8089423526895081, 0.7118489073493552, 0.52504410558471, 0.6964380817042514, 0.7019805261361907, 0.6259953610398635, 0.6656698146239384, 0.6391813673327089, 0.5381499745670073, 0.5158880424143172, 0.5252005304033476, 0.6982753741001936, 0.7691321132437037, 0.7846449567565748, 0.745391076341118, 0.48903842663311264, 0.625031547381165, 0.1607663236207949, 0.1293385832340429, 0.5191166768071028, 0.5059010275875838, 0.2210771248694274, 0.7039566700539378, 0.3045170795266604, 0.6794343349930231, 0.7494941507113313, 0.737697735714743, 0.7016134900355447, 0.4120067193841196, 0.5087562987696894, 0.5863062212048599, 0.7380249533124431, 0.8460439950519811, 0.7004649647944677, 0.18426099724662184, 0.8088789400470514, 0.7847003950561203, 0.7516300162163458, 0.4703155448139239, 0.7543738776139213, 0.6982095657912221, 0.7545000251467084, 0.7211331778235894, 0.7228771735365057, 0.8095577671333012, 0.7568654232975888, 0.8086795878169357, 0.6819200279981577, 0.4936768285740858, 0.6730314264521831, 0.7174206945096503, 0.5486530282843503, 0.14142803245236743, 0.7265340246957896, 0.7040472780988021, 0.6954494127735769, 0.7362022128276382, 0.30081182363607467, 0.5288118059739866, 0.6745444018220162, 0.6480125825061498, 0.5099860999978028, 0.5030411809196446, 0.16195952025576849, 0.716173606232109, 0.6790879776971204, 0.18554794107573244, 0.42612351665788023, 0.5255835307636116, 0.17079756195300802, 0.7946649660208018, 0.30662168942270596, 0.7995743138340772, 0.2647729005248125, 0.20097700474431032, 0.521081158988983, 0.7007754005033153, 0.5243767351673068, 0.5074117503641306, 0.7378695045351708, 0.5590216842426349, 0.5101375760648987, 0.734389340088918, 0.20381395433043106, 0.5651833419425973, 0.5898581852321637, 0.3458751661610094, 0.5251817447799959, 0.7375485938632822, 0.5848292269460998, 0.8193551448472984, 0.7732924927949346, 0.7206460392487034, 0.40105217133405724, 0.6884108570051412, 0.740001465085343, 0.7709856102019048, 0.3159877529323572, 0.46128815042195465, 0.4842118910234876, 0.17909309467464482, 0.23536873011374962, 0.48354704305745555, 0.37376289295957527, 0.16063352256503322, 0.750766805632862, 0.7519462474853019, 0.5918668775532073, 0.6237237374930807, 0.24646033495070419, 0.4715045735996735, 0.1907587382340072, 0.5615106209722484, 0.7494129236434427, 0.2572706457019307, 0.7563580010422556, 0.5567194507966792, 0.3433764630951469, 0.5127719895361326, 0.15947057909933074, 0.7693384970446643, 0.7752576512940331, 0.5764545076370591, 0.4183703481905742, 0.7533778009205301, 0.847586451908601, 0.6867127134312184, 0.7581827613552617, 0.7269395670182692, 0.7948740133964843, 0.5846447908537568, 0.7775248492342278, 0.7528320308634462, 0.7003861912975738, 0.7720483857863308, 0.4640823569876479, 0.11754858859316482, 0.7567578067965742, 0.6122044847625201, 0.17112494733549685, 0.6718568477384416, 0.5443333275562594, 0.7302267084664407, 0.6982518804206544, 0.35323894276026374, 0.48544784016015885, 0.7171674446480205, 0.7215145488200174, 0.33020957960362374, 0.7416907715664826, 0.7795730849602847, 0.10464948448287179, 0.29890966346381076, 0.7670587263933552, 0.16496587764464898, 0.9001228417569384, 0.2831971922062316, 0.7137676852611576, 0.3291474311711768, 0.7381367060420193, 0.6884338703557891, 0.7413615730474848, 0.27994979915205664, 0.7444990716984932, 0.8348110590039254, 0.7327885549002568, 0.5628269879062967, 0.4691058883170661, 0.7244199323003037, 0.7107343023504098, 0.6401966075789178, 0.7589064310109126, 0.7183343592930744, 0.6004764433740013, 0.15876861293087113, 0.6610159521015407, 0.6732257123923241, 0.18714941782856515, 0.6693530334172071, 0.6790054419917252, 0.6983382471173204, 0.7011323011081613, 0.4637761605033775, 0.5360560842544043, 0.698476324247949, 0.318121304878757, 0.19747311724991493, 0.7434887914517492, 0.7259053991392004, 0.6142052505093846, 0.2807659493321949, 0.7393027848573441, 0.7687228310115886, 0.7199871981456916, 0.5617245745558865, 0.523533604168911, 0.21008603236914547, 0.718463624166183, 0.13310588120304104, 0.7268229412549186, 0.7005971102742279, 0.6982645852060052, 0.17594436581240858, 0.727626730172269, 0.33006253182210876, 0.42146793736634847, 0.7039221147618092, 0.7159606816175198, 0.7356382769061625, 0.7735401154655177, 0.8438539130980286, 0.22766321831394928, 0.7983505515050724, 0.7810545516503263, 0.35482396806275573, 0.684187638103135, 0.7130807319051955, 0.7421400390648416, 0.6888305859552256, 0.2045656611480231, 0.7731139050905221, 0.659063924695768, 0.7366536943733653, 0.6787373420014038, 0.7436644308397996, 0.6298466521933085, 0.7677518336917968, 0.6118076874516701, 0.7953745142500072, 0.7938763140021547, 0.752694556824915, 0.5490079210413438, 0.749716139298682, 0.6830856641902179, 0.7214376802401912, 0.8416671241474929, 0.7697085097174526, 0.7303025623122013, 0.7295941771529171, 0.18299193898902058, 0.48627079663872175, 0.7684571415210644, 0.6881380170316672, 0.7632416032428803, 0.5186715769538254, 0.7210448992246704, 0.7099517522120659, 0.7358606271255634, 0.7292118648519438, 0.4398366345782708, 0.17183454484885977, 0.8723352094169187, 0.6946153618161515, 0.495470491300741, 0.5042495984419054, 0.6325573022159747, 0.7279171608340309, 0.13415878141304158, 0.6812781594037829, 0.7067673955208118, 0.7223720202600152, 0.48575620733624925, 0.47710980561842875, 0.6801749576039362, 0.7508490718568251, 0.8066520482367052, 0.7234177188338695, 0.693170647140387, 0.34204693693490423, 0.6525178707545491, 0.7949765788714809, 0.7282920142009985, 0.4825856785611849, 0.1579274073080573, 0.6816977582329772, 0.6703751038467972, 0.7833806204088147, 0.6141670741931654, 0.7721516427824904, 0.7466143671259358, 0.6813459967506686, 0.655750305414201, 0.6956539725652178, 0.4025560939465691, 0.5101708368992569, 0.4581349691854921, 0.4024921187683321, 0.6817412570077053, 0.7349815605712422, 0.7793212219569984, 0.7538553706908998, 0.6547734882717725, 0.6995884662812288, 0.515716348112049, 0.7022118609872403, 0.7139565521411892, 0.6734730568316339, 0.7832186239269415, 0.5101321201756127, 0.5692501286954526, 0.7788949596605891, 0.7711946926794804, 0.6289043053209623, 0.21743889613549983, 0.7917635642629205, 0.7200316687276987, 0.7623971764584277, 0.6776835576502274, 0.5673324336636504, 0.7084555535907022, 0.34337340145755907, 0.14707832522348654, 0.2546772991043184, 0.7096863365803533, 0.6997460283838666, 0.13973773328273373, 0.7043876945362944, 0.5160121740363426, 0.6882773022192734, 0.705332304011325, 0.6989992887278613, 0.704136791542459, 0.6955525120583749, 0.7626672613205107, 0.27382296624045177, 0.5957592124665732, 0.7594942445680374, 0.5073524531215894, 0.6359125194714538, 0.8104373659671417, 0.739206406083286, 0.823679020719008, 0.7853061603321461, 0.5148497666892785, 0.7432131294146925, 0.3042392307357198, 0.7877409291091519, 0.6741154548125975, 0.732007104684921, 0.49751255616808276, 0.7855549431118806, 0.548487344546344, 0.6684135982476815, 0.7517349085530819, 0.7781208575457187, 0.584688268898721, 0.6307935376819618, 0.18783095994058513, 0.45083973973802427, 0.7268358355615588, 0.18291351221184735, 0.5452144935179143, 0.6668508412604276, 0.7485067589312103, 0.3193835440334422, 0.7090720238606106, 0.7247080118171767, 0.5088587639421691, 0.7237309975030929, 0.7090260350230991, 0.507002502391157, 0.7810414043937403, 0.3853437584783397, 0.6122347849566384, 0.49134582984441155, 0.6810618615506978, 0.7287254540306575, 0.704462389436498, 0.759081454822513, 0.7567829320749968, 0.6901457337100098, 0.7004016740249107, 0.7632562974192676, 0.7245914571271714, 0.23700867864831912, 0.796790859178094, 0.7055700987425623, 0.6261364143970116, 0.6941748983672641, 0.7568017680780063, 0.7090393324271346, 0.34017100290983554, 0.6924328590971722, 0.6668752872328151, 0.7452414489936601, 0.5486419082466201, 0.375411385718444, 0.7705257497047994, 0.7135921155971738, 0.8420512105427447, 0.5994906589145839, 0.5806606724725948, 0.5000480316972118, 0.20825727182490356, 0.7569419846682076, 0.7351459218734121, 0.7812523068638821, 0.7610429618352491, 0.12283719445797077, 0.1701813382880201, 0.7478210424036773, 0.747575536817337, 0.5968078002367669, 0.6076144660757176, 0.7541104137380445, 0.7104229710087284, 0.7689645139790284, 0.6432269343757557, 0.27975944808089054, 0.3847794861897133, 0.2110121680313013, 0.7221172484594738, 0.8212153927933767, 0.5141661238845507, 0.640686490861423, 0.7019265573273328, 0.394994148777811, 0.7340193612949667, 0.6447969667449582, 0.5758311819852499, 0.7178139570651145, 0.7288855346816387, 0.6349207824039954, 0.5911244601934433, 0.7534290073708209, 0.7171647830273209, 0.78433885167461, 0.7482167727138629, 0.6149161860132815, 0.8690746105910151, 0.5326847526162014, 0.6312316103781158, 0.7571838921137911, 0.6646675408569515, 0.5686339918921588, 0.7780247872582868, 0.3260505792344235, 0.6904862058019688, 0.5226163291605647, 0.29721862457631376, 0.5491071456676112, 0.723606281600962, 0.580097638444539, 0.6666032614276449, 0.5829881348765892, 0.6974352135213937, 0.7116011407775078, 0.7957783535764366, 0.5469289801374388, 0.183921945249093, 0.7192829661629996, 0.7241146463841276, 0.5656162722591023, 0.7234375583596078, 0.6902360938743461, 0.678718862030259, 0.721838121888736, 0.771162212157755, 0.7138166393880703, 0.6613755447272812, 0.718222156267968, 0.38355097650186076, 0.7038770621326468, 0.19563488804319953, 0.6421260511359833, 0.7681764958603022, 0.7793147979951288, 0.7432672888364875, 0.7078447311816286, 0.7387815103105089, 0.4763177380438393, 0.7165253641177718, 0.8153883516181742, 0.5500515651335278, 0.6506149323848832, 0.6334186778033147, 0.8059211578818477, 0.47074802516130404, 0.7002405918186638, 0.6749477734048843, 0.5290495641662873, 0.7217784831387644, 0.6758448644429781, 0.7444028436335803, 0.41165289130650307, 0.49742779106978136, 0.7127808695052441, 0.1628581623637949, 0.4613906841470021, 0.629941896091367, 0.6822836832699299, 0.7100765821050873, 0.7948632687330308, 0.7726431328996471, 0.7227617197331889, 0.7759202473673695, 0.6682494463679902, 0.7776009007048085, 0.7220451092745833, 0.6611681351768967, 0.5266685058758054, 0.5137890757998335, 0.7813118109080783, 0.7062669741888395, 0.7207925247043474, 0.4991791538951127, 0.7261751241546311, 0.6634733863198525, 0.8688239579553129, 0.6952301205634599, 0.7654879291522683, 0.8504249751138682, 0.7229978985725177, 0.5073387640049807, 0.7994271564636994, 0.7337156487963269, 0.6990351614270947, 0.7288177425926124, 0.851529933291905, 0.15732599339164127, 0.5037757518560124, 0.7593300140953391, 0.609754862267213, 0.7186731601998385, 0.6293914182664416, 0.6670562898119885, 0.7355074253559453, 0.7905175747357425, 0.5242226230636164, 0.6488011215553288, 0.7356326083458585, 0.6668285345040073, 0.7261089408306752, 0.17664090714002112, 0.14680723986056882, 0.5060631464723498, 0.5148973818512461, 0.7531068552408606, 0.7177958612919263, 0.14903171505408583, 0.7282217521384738, 0.6505883283909045, 0.6982773778045694, 0.7442080646801942, 0.7193052282472744, 0.4730494662331563, 0.20018025694219693, 0.48032283942847226, 0.35568055098246604, 0.2940646293706375, 0.7088928712598555, 0.7137542645027594, 0.25528226379269625, 0.23117344507191073, 0.7529627344747859, 0.21839766687428758, 0.7332573988720269, 0.7454613696547105, 0.5151185931981062, 0.30254676937535063, 0.5666266370952014, 0.7776627791171479, 0.7420057108134245, 0.46956631284821165, 0.47458244705301394, 0.7503453604416601, 0.6642801790681375, 0.7817914432716163, 0.7472492859995766, 0.2567066227491678, 0.7759681411912884, 0.2791703757455556, 0.6850818061894283, 0.29305154102595465, 0.7111028347126302, 0.7819373172181889, 0.2554168350083856, 0.6699731078991791, 0.5008975404519259, 0.7484205316937325, 0.7239722050991649, 0.7371085797487551, 0.13570502976743196, 0.5186425575481611, 0.6015922549871932, 0.6667577785605581, 0.6851617632200375, 0.3479751355283442, 0.28179004229207427, 0.7474591982312072, 0.6848826663575255, 0.4024186412930732, 0.7365423483255669, 0.6428180859820016, 0.5033550556512955, 0.7523082083073019, 0.5017136609761833, 0.7207772882382504, 0.6201102065572022, 0.7695034277098353, 0.1832445477768398, 0.8418988564354217, 0.7763130098370781, 0.5289669784803014, 0.5313728578998518, 0.17656672945374113, 0.7358985152568204, 0.6591820032701335, 0.35020203785259835, 0.7753890254753866, 0.7500526738501047, 0.3617252842428488, 0.1478958774962624, 0.7851350893262492, 0.6711912057219432, 0.7427787535641318, 0.5751967342524739, 0.7688235074189843, 0.7466478733041086, 0.22933342543019505, 0.6795278069350023, 0.6264916518722748, 0.5962124508149756, 0.717411073805584, 0.6919113905419885, 0.6849306957340526, 0.37801570601109546, 0.7362883974755065, 0.7807450770501942, 0.5550096498616035, 0.7432667369978845, 0.6137522366100743, 0.7418113015401218, 0.8036430910969864, 0.35946143058393537, 0.5249944977207494, 0.7679020400698143, 0.7012687776344648, 0.6957550778240125, 0.7187485171652235, 0.7854929276894715, 0.740643642101369, 0.6235370050245145, 0.683912149221077, 0.5009679483146274, 0.1643097624966545, 0.785976951929854, 0.7285685445359055, 0.5905410212962857, 0.5084088549455346, 0.6854395529154007, 0.14266019880766115, 0.4138109968634326, 0.7522996871521498, 0.7273754980167835, 0.5429679417948796, 0.6186507319519271, 0.7688050019929623, 0.692399780545438, 0.7283149747120835, 0.3088616250977564, 0.23708712029610968, 0.5043487452782655, 0.4794270060041595, 0.3007214994861689, 0.6944343139766749, 0.771044971789115, 0.723762744280014, 0.6159387282961397, 0.722804040844294, 0.892953738117918, 0.4528556669167381, 0.7767088948554095, 0.7544738834200471, 0.6997604618910963, 0.7338359535945913, 0.532628627395571, 0.3192070384212204, 0.8077385296844076, 0.7337423855812533, 0.7763963844274299, 0.7868410303707839, 0.7332219743536915, 0.5552329388176924, 0.6919056843250454, 0.5966413160751786, 0.39829846354485726, 0.6013904216628475, 0.5656506073051467, 0.7298196704386765, 0.625151341988496, 0.24338338337660007, 0.49924324050012486, 0.1421991136368079, 0.7771031419176885, 0.770821233950141, 0.7526601414908907, 0.7434286330788681, 0.7020236775104364, 0.7622654421454752, 0.7685236451108997, 0.11509164110008946, 0.7207602391899174, 0.5048361076679256, 0.11508627986451951, 0.7914723253140067, 0.17074847078480412, 0.3543029959413349, 0.678216258428554, 0.7482903702190804, 0.5088263463741898, 0.7113537446852758, 0.29195451942480594, 0.734574510771166, 0.5053320450842494, 0.7597983260478295, 0.20005126870540116, 0.5881727559986843, 0.6773026580199795, 0.6649800835541638, 0.783754306876455, 0.7264235538413104, 0.7705640479487985, 0.7728976529547515, 0.6495886059866653, 0.5312143819187838, 0.48966724038705794, 0.764331106391405, 0.7148887370171227, 0.7386920424374726, 0.7674140393783415, 0.6702727018468553, 0.7084690844554562, 0.6585598043910655, 0.1896533593782995, 0.5221948229537392, 0.6709011817835716, 0.6758548094233675, 0.5524382330366442, 0.7602411148399537, 0.5734552594838609, 0.5460124067166665, 0.5704675171104813, 0.5481060815354638, 0.9050873086790431, 0.6660940966376733, 0.5296875010768335, 0.7235024723000963, 0.753007838331544, 0.504119078805214, 0.7122496744364759, 0.6989336615023548, 0.3538666715128318, 0.7265111294091111, 0.7050718312392974, 0.4555105474507839, 0.5045726174348929, 0.5905575175035652, 0.2542439597417018, 0.7870430187422007, 0.5231299763094597, 0.5191497499236959, 0.5104471073008817, 0.46178688775355436, 0.3907783560261546, 0.7208635620404404, 0.5294365665256281, 0.7022427463495691, 0.2639601280435919, 0.6903782469315253, 0.7750544599804932, 0.5123380478781818, 0.5056349890303146, 0.6849745154045674, 0.6961327454041906, 0.6905737260793539, 0.69619134446506, 0.17363840166026556, 0.7762181797496022, 0.7507290244820516, 0.7527890379631884, 0.7836563080763936, 0.7343217567372292, 0.52727288629413, 0.5147043416607728, 0.44286494114874714, 0.5105366720060258, 0.5150710021892947, 0.569338169398056, 0.7906730514496997, 0.7103787033339488, 0.7622693564911823, 0.6270460968152061, 0.19503680311842117, 0.17461029882832113, 0.7278868917399806, 0.7845022486190271, 0.8033022979128555, 0.7440054485887937, 0.6956800466288893, 0.438462808761508, 0.7906833689813377, 0.8027572638370329, 0.25079073560579507, 0.7502223679742492, 0.717276642137844, 0.7338646259057693, 0.12753309762898127, 0.5638308629596764, 0.7898538853889446, 0.7056719272625709, 0.40707104829888713, 0.7208872392538639, 0.7600785689370454, 0.28310506486772835, 0.7501523689929241, 0.7461321001203942, 0.46514239913642513, 0.4854756817961317, 0.5258426489713387, 0.7831613742515381, 0.14276661437994992, 0.7594475059637293, 0.6829389355013417, 0.5101687348501537, 0.6319045495069561, 0.7499676967400943, 0.7276670541635272, 0.6869007463797745, 0.7563630923073755, 0.7110292948326355, 0.518292423032756, 0.648052281397279, 0.24291488111238152, 0.6174756843346477, 0.1488294425012738, 0.2581872467236706, 0.5048737971731574, 0.7798385618088011, 0.7891622755985678, 0.7589410932765692, 0.8190725111633139, 0.6214110339878733, 0.7647670961059908, 0.7738645174702825, 0.44065523158295905, 0.6418878633218741, 0.7326696123825999, 0.25808961189211443, 0.6807228375302056, 0.7888995792271566, 0.506859643444499, 0.7684413165738276, 0.6603543307161455, 0.8079871867580143, 0.14509961261567778, 0.6535428408942285, 0.47811956429971014, 0.5380821747124976, 0.3890379704911501, 0.7588618427419159, 0.5459930364504335, 0.6674225238881483, 0.7467646272408444, 0.7767441000038875, 0.3477794355223832, 0.5256098686573949, 0.7895408632487292, 0.7600177730301749, 0.6231667033862955, 0.7187260061323599, 0.43686996006276274, 0.776316802840118, 0.7415131050384803, 0.6624406487405711, 0.7472411558493417, 0.1678348135789293, 0.7816921424565153, 0.6814553890401138, 0.8021101279162857, 0.4164135502047855, 0.5982796379044164, 0.819906940623635, 0.5220562670074164, 0.7571947615310696, 0.5153661243294122, 0.5963871331113129, 0.5201090024763584, 0.7453808016958638, 0.7451142577577069, 0.676066587312793, 0.6519286048703136, 0.6512166539419013, 0.6551492423716021, 0.4782084800753996, 0.15686724647886263, 0.864157336745698, 0.14237910134812434, 0.7663550622272354, 0.7543202135905285, 0.4061693960638251, 0.7169713601685155, 0.3449836293448222, 0.7312906976922523, 0.7007957966785563, 0.6357925596760575, 0.7706545055609539, 0.7823919606688466, 0.5106853095237928, 0.5009393306790131, 0.697042772182378, 0.7139054966107253, 0.2698294827629941, 0.5463871321024016, 0.747759738050263, 0.6483170434749348, 0.6758622666008168, 0.6531076192830595, 0.5192380886738698, 0.7492805860093014, 0.566124525725918, 0.49669253018966136, 0.18019141384097287, 0.5263827033942183, 0.7836790993665861, 0.7108332758699197, 0.3758421581938451, 0.5359326505026467, 0.5266473023524715, 0.784233868909997, 0.43445487400220806, 0.29578389692669543, 0.6740518948236036, 0.5007677360397952, 0.7664114819307632, 0.6708236510862943, 0.7932053147829836, 0.5762311199853454, 0.7345278835720973, 0.5081927961996062, 0.7298909116942428, 0.5066619073063579, 0.6878187804941726, 0.6571251142237566, 0.7711942061566653, 0.24464883648303684, 0.5329265778476642, 0.6512923279197737, 0.5059771476941627, 0.6924256494857856, 0.3587081106655177, 0.7311498642725301, 0.16080765598552332, 0.202927729026417, 0.9055882148159475, 0.7725472847359507, 0.7923127994427505, 0.5587327372519204, 0.3590061649359456, 0.7621330412341901, 0.6686749222371383, 0.1817010184118301, 0.19571269229455301, 0.7155947256320272, 0.7108641805469057, 0.7482757747214678, 0.7322992692059898, 0.7371387963136082, 0.6632974765077198, 0.7819164120248021, 0.6819433932335036, 0.7687589074948435, 0.7977171845744495, 0.4671327325619706, 0.7787566685153102, 0.7617728315042064, 0.6679028275968664, 0.4819418144358417, 0.5468970880776302, 0.5961639806890862, 0.2953955021333191, 0.26167473086581516, 0.5539714611759888, 0.7812428928960183, 0.5316882669547246, 0.7054704239001863, 0.4462217146685976, 0.5883351930677764, 0.6634181628545257, 0.8371891392855602, 0.6002466118353491, 0.4341965444871745, 0.6667175217472401, 0.4463832092038026, 0.7756266752940881, 0.5076977147361702, 0.7458448007391725, 0.8049822519958069, 0.5050155420241915, 0.5038851169936479, 0.5167473064097479, 0.5508120334186748, 0.7576944576905181, 0.7267850942949793, 0.4390021087250907, 0.6505559954503793, 0.16714279959394254, 0.7443540748848093, 0.48156351371272327, 0.7531681955291423, 0.5215195834231247, 0.6131288807815909, 0.14067068575187702, 0.7322721577245506, 0.687687209252001, 0.4322493967696615, 0.6902041202173426, 0.5491175720505704, 0.651497236508802, 0.5218328595708129, 0.6418582467971656, 0.5456435975778298, 0.4056710356774294, 0.14741493489360144, 0.7294205849157784, 0.7260006683722665, 0.32968615895707193, 0.7694728019819151, 0.77047831606197, 0.3429386067213498, 0.7301448463887196, 0.3230436556193169, 0.517833100597509, 0.767564773584996, 0.5742572030119774, 0.5220866545511821, 0.7194713728202625, 0.7744000521293204, 0.7361350843414057, 0.7968223969105278, 0.7280411573877518, 0.34411573451822497, 0.7389411915197053, 0.5223811923967744, 0.5158087507561719, 0.7027949907914207, 0.6878952224746648, 0.6621422114879845, 0.7541515740632109, 0.7397758265287963, 0.7422415704714902, 0.7268515902880476, 0.16494757027952658, 0.748240589396665, 0.6990127687729886, 0.7290169346610369, 0.6553582639958492, 0.7745775398560892, 0.7535359441747247, 0.2176056808849942, 0.14088936736346247, 0.607675632568298, 0.7490117782062645, 0.46784171790724555, 0.6438679353254952, 0.7677998563706343, 0.6241606804055165, 0.7462412390901353, 0.6833552109669476, 0.7017454697911715, 0.5047319378599706, 0.5629120681284975, 0.6990147302501515, 0.7714937117718949, 0.749453363250991, 0.7320330823087394, 0.6960666796773939, 0.7266000111362577, 0.7193352263151428, 0.7181836199649414, 0.654435368717396, 0.7291037190087579, 0.7582909498970604, 0.5203517966648524, 0.47179514246093, 0.71633090172918, 0.2282164019110686, 0.7310479976949471, 0.72728527734934, 0.5464035332327969, 0.6580052669750865, 0.7767576142093539, 0.33858461166094567, 0.5147852696106663, 0.6686880202322838, 0.2802887948193434, 0.7185899929132274, 0.7126908799936423, 0.5039653222127904, 0.7831914086006654, 0.677576933235718, 0.7190304286152936, 0.5408561989811715, 0.14168174302247658, 0.7166958478354213, 0.8707564673618048, 0.7205335964674814, 0.6131726342720876, 0.6803050720813903, 0.6805822865427347, 0.8610305040858365, 0.7289413571545612, 0.48188169252742064, 0.788398553687243, 0.732581308331317, 0.7315194760739201, 0.5726757984528678, 0.5651868853301767, 0.662706668281402, 0.5316178344428166, 0.7060739871682252, 0.3862253048924495, 0.2788582920944363, 0.5152762587408594, 0.14372893077945378, 0.5180406134460326, 0.16586172484871334, 0.7880691866956243, 0.7079963872354759, 0.6961062673753817, 0.17572859762972118, 0.666247314628449, 0.777227098944408, 0.15154944936105022, 0.7778810220010794, 0.3254219180173451, 0.4571032368131318, 0.6867307145690047, 0.7850585177101925, 0.17148244963245535, 0.7040529463064071, 0.6467011225843079, 0.7285641599871544, 0.7142965156948944, 0.7422135328742079, 0.5749365880003344, 0.19697516504442897, 0.7302751130384058, 0.7870254688984294, 0.6696441357770145, 0.6776285099448645, 0.7494377755222839, 0.7380827471805406, 0.6077889798728131, 0.4158617989066493, 0.7515785886858218, 0.6422894743419877, 0.7189165208473844, 0.7152073880252224, 0.5009622071589142, 0.7697271520335927, 0.14991297784583926, 0.25186247332567124, 0.3250352268148239, 0.7025084835954291, 0.8450150009284793, 0.7022377644900893, 0.5891715836222553, 0.7360660326391607, 0.6361872869267768, 0.2846274372691607, 0.7344560380373742, 0.6196835747415065, 0.34615582883766266, 0.7290206092719752, 0.5886231762801738, 0.27044576954224736, 0.2467054155811513, 0.7829638467347038, 0.6826134024121238, 0.7431012915314161, 0.7917710302217799, 0.7748069697396273, 0.4385256598632978, 0.752884065125743, 0.6907458664178838, 0.7665422915292229, 0.7178123659666991, 0.30751535345691977, 0.7440703671098112, 0.7775966369527252, 0.8232363870227917, 0.5039186839093716, 0.49072857557519345, 0.6803387108483873, 0.7120988787740506, 0.7529911499374643, 0.37393490678057184, 0.6578371291640477, 0.2509973718280257, 0.16941673173300606, 0.6491914379759922, 0.6973044497096027, 0.29656492753123903, 0.7718302790180703, 0.7401035626087611, 0.6794125496832176, 0.6306668587948449, 0.32958895540817945, 0.39155851216082205, 0.14770437186519836, 0.41472724321989174, 0.6672327509440376, 0.3478357771311858, 0.16058259011747394, 0.7032710500250147, 0.19670990347221792, 0.7335741168302098, 0.7595294595330513, 0.6662564213019523, 0.689465869433171, 0.7628352784641812, 0.2295864687581225, 0.7800899231596355, 0.6061910576788296, 0.6663026693824131, 0.760257831597966, 0.6460777611150769, 0.8486273747509065, 0.21224586367989434, 0.7289621648743464, 0.7686869689820794, 0.1714472713660873, 0.7386296827513787, 0.6909289337398151, 0.6801743833439998, 0.5990694762790214, 0.6957007939376755, 0.7258516119618457, 0.512131513043006, 0.21658245823933756, 0.502602546036909, 0.7045013859235095, 0.34519887353163586, 0.7600851447623947, 0.732121321305157, 0.7464384560643523, 0.5673162409104713, 0.7813092576996803, 0.6608645413449378, 0.7323309149749755, 0.7100001836879847, 0.7243145539906773, 0.532362453034281, 0.7354302013435245, 0.5724982865594093, 0.7770602161409014, 0.727006115858039, 0.5408235791133261, 0.7309649570461143, 0.3775107084392252, 0.1576610071441252, 0.5223763360618379, 0.7511725837079729, 0.775358414344629, 0.696438828814947, 0.6821413694710984, 0.24122144140200583, 0.7930433106368138, 0.6819833913014958, 0.7729529591885002, 0.571723831260609, 0.3761284018689277, 0.6655542574019354, 0.5630157491365091, 0.6809475936771144, 0.7171208214811688, 0.37814745743524064, 0.5011063582727081, 0.7267791825618619, 0.506811629404098, 0.7862288049354974, 0.746648144821437, 0.7455913190392922, 0.43720598503961206, 0.7346259860204727, 0.7158458174815399, 0.44795027381446456, 0.26921205025189127, 0.7638822552000804, 0.17176161049375951, 0.23386762089085208, 0.7322651435042329, 0.7270265754600004, 0.7416628349134703, 0.5358331932646889, 0.65887721887054, 0.730453612750227, 0.7275120878711823, 0.7494397696103207, 0.6580028375602126, 0.44261840927821156, 0.8519343901475145, 0.3818417213340244, 0.7684232973240406, 0.7089200521233644, 0.6659366105304942, 0.5046821001479886, 0.7189950017576484, 0.5190810374650596, 0.7129568979453369, 0.6276074646389584, 0.39908381783960367, 0.7737821716814904, 0.7675156373179203, 0.8082820371836427, 0.1829400749095439, 0.7740530385374892, 0.6523679290495984, 0.5034067099198527, 0.5009307066204869, 0.48969295663460105, 0.1349247098503673, 0.6242839989803456, 0.7312025414198464, 0.725145502300903, 0.5760799363931165, 0.7740030045548486, 0.2493424804835775, 0.5891302255359879, 0.6918287221810852, 0.7451589970810562, 0.7664445006593108, 0.7911669878900869, 0.7331833289623317, 0.716765493172837, 0.3368596460160014, 0.5503475579775556, 0.8721581972975653, 0.147348248554076, 0.7187284267489437, 0.6144969779655598, 0.6928193297812013, 0.24127112917770377, 0.7073209511252134, 0.5005489922384154, 0.6722445988706641, 0.7968077848968244, 0.7020419061882422, 0.7288829881478297, 0.7030384216730143, 0.746270549071824, 0.7854805195368932, 0.7788186223262203, 0.5549117393074984, 0.7796482681378215, 0.5302103811274591, 0.7945338632138744, 0.3773756453131315, 0.372283219955018, 0.7619123494837488, 0.2983617333476783, 0.7496426962482353, 0.7262689816017638, 0.7070387514245662, 0.1676774341241378, 0.7517043428416553, 0.2060411072997252, 0.5339371128207389, 0.7322997121365616, 0.524311889914282, 0.6618710899842092, 0.5476886065384432, 0.52925293320626, 0.5477683258617404, 0.7098543225116521, 0.5739840015745866, 0.7148310428079956, 0.43235922331825294, 0.6474176527986893, 0.6755510567230151, 0.7418936672826807, 0.5950878838561295, 0.7678668609991733, 0.7796307478118901, 0.7653507879436137, 0.5037964796095691, 0.7752588465067396, 0.4479761891853343, 0.7085945186585035, 0.6605288825036857, 0.7246201065361836, 0.7352745268603373, 0.6694824669401827, 0.6976528923307449, 0.7351021239068489, 0.7267686827485756, 0.7100120049064862, 0.7250818281018345, 0.34902631743343604, 0.7321771626073099, 0.5026447420243823, 0.7785737925179186, 0.7684089097094484, 0.11984428606910828, 0.5426241202114924, 0.6342853459924332, 0.5344634613332758, 0.7322680102170549, 0.5956541756689296, 0.40772604355886555, 0.7786023577590786, 0.6561229696604818, 0.13099589976171636, 0.6979372815359588, 0.7435419567939475, 0.21226008432420923, 0.11836190169761532, 0.7193400214824638, 0.30461403916461377, 0.19890000868949684, 0.7264662553455609, 0.7796709716313297, 0.7061374026633462, 0.21952312112437158, 0.13251531744992437, 0.26100967388295376, 0.31026116370621065, 0.5119769549479058, 0.7205033765002323, 0.1753566871169766, 0.6956635795496701, 0.8458280976901015, 0.7131239756771176, 0.7004422108062821, 0.7177652323064123, 0.7100820045374877, 0.3974502407666883, 0.7345393871485058, 0.5279559477464213, 0.6953564205012159, 0.7038085111145652, 0.5231250179716341, 0.7864936562835706, 0.14737782808257457, 0.7437502249604544, 0.2977217068492897, 0.570946082132832, 0.6506295965059601, 0.7854625453368942, 0.2061392111439114, 0.7096760779710263, 0.7038508543899069, 0.705592391486883, 0.7414920277517889, 0.7405884030886191, 0.5060326742469518, 0.7818862670677597, 0.7667981554010629, 0.606309946155404, 0.7892605761032078, 0.21638956146146457, 0.7078575961121931, 0.12734058869081505, 0.7372270352413993, 0.21862659356459566, 0.7460910607069055, 0.6932198309589036, 0.49408875914994876, 0.40684443510281065, 0.707639000045216, 0.7305212706015004, 0.24803870527591795, 0.7489529911370092, 0.7133618535906182, 0.7386340459780482, 0.6935195357890271, 0.5829553995711836, 0.7247492460155939, 0.7125683502756964, 0.3088525065747753, 0.7482326345092586, 0.7190242022006846, 0.2502596973389088, 0.13331239926119667, 0.7839378413227085, 0.7310250401018573, 0.7648274642700411, 0.7259585765133588, 0.7907758617961584, 0.766149349179961, 0.8015981009922322, 0.5325517331572134, 0.7750372710501016, 0.8003994193750046, 0.48271075904613076, 0.7959074868586157, 0.1528336151010098, 0.5039334072035402, 0.8361166214780089, 0.6728838652036958, 0.6506946635236129, 0.5920652470486291, 0.5195633915553937, 0.11686218303612836, 0.7374676759326946, 0.24780274967091095, 0.38442585441180627, 0.7282567593486722, 0.63352204891649, 0.5047345987447539, 0.7254735113975187, 0.5502211095439551, 0.7071059710563716, 0.7204904810234506, 0.7272009932896455, 0.7153361010962146, 0.7753109191382196, 0.39409676276510525, 0.7371481784697893, 0.7787322916223091, 0.2997677683763627, 0.5298400955712228, 0.5182763890771785, 0.7784773917567164, 0.7927766511393962, 0.5550804592907059, 0.7659753583887334, 0.7041996567497788, 0.5209076501036654, 0.14398494525958921, 0.5389357795295063, 0.7567685216642261, 0.7177868835479061, 0.7459269709233379, 0.6390852355902034, 0.6455702117447796, 0.7985426469661696, 0.6150669084626955, 0.7165951737881088, 0.5270034859198919, 0.6613804518121451, 0.7674835559794371, 0.7602006868169563, 0.5745590341850533, 0.752843708147499, 0.7318856518312298, 0.7627443222469107, 0.7705884374800724, 0.6686188692065201, 0.7440601464432153, 0.5436603274117169, 0.45848064703834995, 0.14246611221020117, 0.13010503201121867, 0.7350388327401248, 0.739006866989039, 0.3201917705534844, 0.1441796941254712, 0.5486177285817596, 0.49510689301999805, 0.6942885909565836, 0.7185024256820776, 0.6917457629559681, 0.6787964086704902, 0.7741730578567344, 0.476162587891452, 0.42816877874983944, 0.7868101945942968, 0.14328912797514473, 0.5565935307391268, 0.5078413516281945, 0.7503907985506587, 0.7110984580097346, 0.5182914097891028, 0.7699861609652703, 0.7602756658425233, 0.2847305401591621, 0.7307127725688597, 0.7338021089193035, 0.509238956431846, 0.25976194504823924, 0.7314163464223414, 0.9341914139006036, 0.7467807004702024, 0.7348255233225134, 0.39511594432452385, 0.22781670551004107, 0.6973399343130907, 0.16211829628461608, 0.1395755633752199, 0.6977827400916085, 0.7345808881637851, 0.721584063653183, 0.7111509822430737, 0.6822713958455089, 0.6917333774663913, 0.779867252179412, 0.14944689558350663, 0.7233193390409185, 0.48503473945815184, 0.22702423693346907, 0.23671736348944974, 0.7497902870870846, 0.3034644104237447, 0.62202294866601, 0.7004899519983995, 0.5248476576910603, 0.6047953478834395, 0.7351013372567768, 0.4500201146968301, 0.6106250969236506, 0.46910828138109917, 0.7910542845052364, 0.35681715061325026, 0.6522177591523878, 0.7660262570580475, 0.7018882308680244, 0.3666889689983344, 0.6754013404831458, 0.7322066464213225, 0.6265963682430494, 0.763287817800626, 0.7863629629980835, 0.578288521408003, 0.527041173552632, 0.33283105418945835, 0.6228548201389493, 0.6965395037690664, 0.47216505455756036, 0.7495931553483304, 0.19769571650142825, 0.70745059238163, 0.246651464129173, 0.17468351406148247, 0.4433153814509977, 0.14916259297660378, 0.13905259482665086, 0.6693933692439268, 0.7381464107865521, 0.7752268763732851, 0.33504211813776286, 0.7952590945730811, 0.24435773909342176, 0.7854915221924137, 0.39510462164951743, 0.6365489585531139, 0.5282782097127243, 0.676108715393242, 0.38027080293457544, 0.7707601533818038, 0.523787942341507, 0.5417669598138601, 0.48723267160215544, 0.8777542245726946, 0.6715964815026946, 0.23293704523446912, 0.36002252384604766, 0.6234993598697286, 0.7603233423204327, 0.737837965106329, 0.31071143496843673, 0.5251716545986972, 0.7047530277118667, 0.7370049208517736, 0.7554621149918544, 0.26260221093071406, 0.7578342447273497, 0.5326083047875889, 0.30536953287117075, 0.7132781655188439, 0.6849428449687709, 0.49471538030078116, 0.6726437300391777, 0.39155835563050523, 0.7211799139062549, 0.5414572037761236, 0.7689762143570867, 0.6788509459021448, 0.6866475266227102, 0.7268277819467237, 0.7482051136588684, 0.5103213946866971, 0.6897435492181526, 0.4507747015048279, 0.6663872528321708, 0.5092418850515729, 0.7782910010206814, 0.6474825591474962, 0.7079769361203007, 0.5101242389684165, 0.6861790722738236, 0.7101875438819532, 0.7127010575146825, 0.26924421127805515, 0.7862802670519382, 0.7490456962101226, 0.34756019175105635, 0.5187333730471554, 0.6676229007688911, 0.7423831666764591, 0.6901578535156049, 0.7542835232161685, 0.6719439409330825, 0.7471579583737968, 0.6868020139581882, 0.2548485405517562, 0.526516427201295, 0.15466246129961064, 0.6231342518669782, 0.6251466322830982, 0.690684861791368, 0.6844911935447491, 0.7524386836519124, 0.7431245285799561, 0.6890414700415806, 0.5224684209931334, 0.8020633792295825, 0.5530363997664254, 0.7117570651481309, 0.6938710770719425, 0.7076631970483072, 0.2838472541406867, 0.503569050598245, 0.7904958255661474, 0.513111419341667, 0.7735239650165574, 0.7202749527983248, 0.547396978095243, 0.5321158393824491, 0.4923547686066209, 0.6518689564037502, 0.7636944721199577, 0.8074880674208461, 0.7437497088189502, 0.47189314898763124, 0.6501636878979052, 0.7560476009385458, 0.2500541748769236, 0.7329448050705939, 0.6852350917284937, 0.5325652094691149, 0.678386341483713, 0.6794220492234903, 0.7011351519895694, 0.7509021797420525, 0.5836169113418311, 0.7243650762471725, 0.7517370033869185, 0.7774357787749349, 0.7327355318675359, 0.5381042644941081, 0.7532752756720796, 0.16945072363468666, 0.6313736027399289, 0.5135434773973163, 0.7234312534874526, 0.2653550458620332, 0.7098274786779067, 0.7831613014195898, 0.527702072550187, 0.5354475941671423, 0.20249102919093573, 0.6760419364594473, 0.5034509849504515, 0.23771906472592122, 0.7111557463662208, 0.7378688714932968, 0.5460013652927376, 0.4478559638465484, 0.5315645404970786, 0.7153059202296195, 0.24131047268063793, 0.7480742131712068, 0.528643707829086, 0.7771336282927156, 0.750573425814661, 0.7027824789696043, 0.7161213871990735, 0.6556770341687822, 0.36447777432916817, 0.2849105608677208, 0.760648278731997, 0.38423244113659877, 0.7769101699370949, 0.5075724860923, 0.6631364808254187, 0.7995977092052527, 0.7172249490083521, 0.7867580653601346, 0.6387545519125738, 0.7928591248229538, 0.5101947313798411, 0.7976658373612241, 0.1460348451072249, 0.8289508674071101, 0.19121794497841557, 0.6968596911374022, 0.15735762028267716, 0.5423315704021296, 0.5615050224175329, 0.33625040703687503, 0.7710260533007847, 0.7833427650897149, 0.747072119972717, 0.31668223042415083, 0.534197690532034, 0.16881515062150346, 0.71513593067388, 0.6945934795831821, 0.645926263715867, 0.6572112481257864, 0.8465425029452963, 0.6860324541652809, 0.5575924090231938, 0.7889078398770415, 0.7541799673862221, 0.6134701870359479, 0.13475397221296853, 0.7726464299054795, 0.728028895447382, 0.6200449839709308, 0.7840761690528762, 0.5343992646737796, 0.6016544898745166, 0.6845532018781917, 0.4728036188054089, 0.6814613845300094, 0.7961190348098764, 0.6389402147908042, 0.7903545811924074, 0.6810092996074026, 0.7683199779162252, 0.6543610533161537, 0.4261373408365895, 0.3649635920968286, 0.8038715977085905, 0.7584268167269254, 0.5506342517638722, 0.6417819481886772, 0.5029755439374158, 0.7916217777963732, 0.7183283217723582, 0.7042878148145479, 0.27235245261858276, 0.7185309947896019, 0.7362475164799515, 0.17015869149269772, 0.7816615174435018, 0.6630268697081163, 0.5668808684487628, 0.7889724329551545, 0.5083445999032551, 0.7046978267303149, 0.7708919891875907, 0.718195603226549, 0.7345008593278356, 0.8427130205028729, 0.220102373836871, 0.6759409077935576, 0.7350515257780527, 0.4551613554811884, 0.7247485800215356, 0.6861310620966788, 0.7370050194551369, 0.5016459195012798, 0.2187590098652564, 0.6897752388123035, 0.6350726282902507, 0.7673360848857513, 0.13122484780568253, 0.7902832473739478, 0.5290390890541561, 0.6346123631035124, 0.677097953947653, 0.4492080660800556, 0.727247042586248, 0.709569345545744, 0.7205713406258497, 0.7684228181991267, 0.5029847180620852, 0.679279931173865, 0.5930521352776369, 0.6942941983101965, 0.4298607049943787, 0.7772830099377269, 0.6879374046882933, 0.6752142685738471, 0.17549083366908155, 0.5016035431769499, 0.16366821534607928, 0.6298449041660201, 0.7535392929007823, 0.7924527707505807, 0.5052644071207414, 0.7914185377781413, 0.7287547134262115, 0.5261251657397019, 0.655782532028709, 0.7659822013930616, 0.7892246838677386, 0.7736211375488566, 0.7479943673108111, 0.14487924551150866, 0.8486408243831552, 0.7275868324460733, 0.7874316354467462, 0.6720794023833713, 0.6830559292031986, 0.7235808648627684, 0.75465259928764, 0.5702308597033549, 0.7228750112656984, 0.7103856706881038, 0.6486077940935974, 0.18715091032360917, 0.6771257085426075, 0.5519940415323055, 0.6847482131095699, 0.7128552506167347, 0.745912676699781, 0.5264413380372116, 0.4917766274950278, 0.6517147820601723, 0.7572253307593304, 0.6539337459269114, 0.7173446359936356, 0.3686938471815983, 0.5995024058094007, 0.5040529843804507, 0.6495376003885762, 0.45265146367361886, 0.7568969823094257, 0.773961522465812, 0.6190768317241256, 0.6953698487575782, 0.7173776276752664, 0.8677216391429051, 0.7081675514197833, 0.7980882754866717, 0.7031032951435746, 0.6706357124149267, 0.7661438742875092, 0.5340484763424211, 0.7400968777023188, 0.43965531580697853, 0.7245089206263431, 0.5053345023338119, 0.45855607401341625, 0.6620980902619676, 0.7798089999149613, 0.7488734419918643, 0.2896866245038451, 0.7781480490132362, 0.6497938802403058, 0.1127204157611458, 0.6030127211118803, 0.754660347143935, 0.15461592931778267, 0.7228968925951905, 0.5976332160598508, 0.23995815176291976, 0.3080132856963179, 0.5069168680449994, 0.5265210326173189, 0.7453262107912526, 0.605400607399523, 0.1723710274239828, 0.744837528029025, 0.4804849742698758, 0.6929598528171159, 0.7858098990881505, 0.601528296888399, 0.46907202563273137, 0.7408195746585001, 0.37706303068444735, 0.5135839582999232, 0.6841461240460076, 0.44743785048313967, 0.6876877440596344, 0.6821173750392797, 0.47523125941820604, 0.7232647347833217, 0.7243598494700949, 0.7268058669708813, 0.7621097369758005, 0.12558262520025631, 0.3289642080238935, 0.7275327696542263, 0.7947587901344675, 0.2433534802303176, 0.6948932356896655, 0.7943427573608967, 0.5740955060556969, 0.7551238551058961, 0.7520991589364882, 0.8103511220898281, 0.7049929068480063, 0.7238170507972058, 0.6866988047713192, 0.22166847961796335, 0.3702467853138315, 0.21599449920263494, 0.1940148928878268, 0.6576283524730837, 0.36172953779048683, 0.7156463786103955, 0.7270813194976593, 0.6941833367529096, 0.7652461653994104, 0.6826944314041788, 0.7340360543773543, 0.520216525804052, 0.5604940636510225, 0.28430916859267796, 0.7689780946169125, 0.24338652756155005, 0.471246193567412, 0.6970827274547464, 0.7583477849697918, 0.5990135728453725, 0.7962442425588191, 0.72523103428526, 0.234960192896389, 0.6555790389145624, 0.7420710646198087, 0.7861981141472287, 0.3048559770289159, 0.5785023909881073, 0.7854726151509381, 0.708694629285571, 0.4855857905313833, 0.698840990634018, 0.7488589081770598, 0.7421879539018001, 0.8141386858555734, 0.6306155813767973, 0.775531138275095, 0.5068725188441816, 0.7144764876797692, 0.7401067458347271, 0.629714477916464, 0.7343818126578949, 0.5042404008561246, 0.645586362096562, 0.5917508525620652, 0.691495116649806, 0.7685268378719495, 0.3350877330384426, 0.7825281527945498, 0.6117124957854086, 0.6655649307774983, 0.5783675856581127, 0.7342946001524963, 0.7555095050111168, 0.14172583084188725, 0.5990415555203633, 0.7136726794334511, 0.5569064016644558, 0.5309303966888278, 0.1694805082351158, 0.1677046376725547, 0.39193505232589376, 0.28153660802904285, 0.7144550310257634, 0.6538275801388345, 0.7995414960673045, 0.4733148652353116, 0.27421362047326686, 0.7260028943502163, 0.7960863532325848, 0.7447841772153556, 0.15358825589572994, 0.780160552824714, 0.8239793203416705, 0.18781760764703082, 0.6127394942298299, 0.6090151502192157, 0.6988110917603932, 0.7285727642240007, 0.60523485229127, 0.7705698708195224, 0.6874718912196953, 0.6756748670434513, 0.7183009640244978, 0.504458023728971, 0.7377153592612183, 0.30281559976599154, 0.4744077849624711, 0.5033501939601573, 0.705730284132844, 0.7422100714038711, 0.7488753926011663, 0.7088004662463062, 0.3243795124676031, 0.5679816167118312, 0.7120781469199698, 0.7054220566299442, 0.4546854170768881, 0.793829461334175, 0.7207997453301641, 0.5403707865103635, 0.7069630965779373, 0.48147488971888946, 0.558557502738907, 0.7115411846159377, 0.612637503048228, 0.501234858934158, 0.7971926310593598, 0.7171275635540368, 0.7278812005449673, 0.7063319091549642, 0.5620093105222526, 0.7807253654380638, 0.7133507842311801, 0.37376264683385035, 0.6996175917950755, 0.663901428031603, 0.7191734218562268, 0.7759741781012881, 0.6260427695846915, 0.21780263931435542, 0.13556501861227657, 0.7055263077954219, 0.7337540912680725, 0.6937793490924729, 0.6379346210670834, 0.7409668774406606, 0.777986014257774, 0.5033532075027385, 0.6359762550101449, 0.5390931035300559, 0.7351411039549488, 0.1512016382372104, 0.6729329059980742, 0.780363726749149, 0.4841927722858267, 0.7356442306051763, 0.7926195838787635, 0.515465871957566, 0.7180417015292122, 0.591472137950529, 0.7414409855374613, 0.7403431451281502, 0.7484026191633997, 0.14298657602464288, 0.6432893804015878, 0.8896178950206307, 0.637857755697104, 0.7288414517644471, 0.7429241807626384, 0.46082360381264026, 0.6900640918015752, 0.7198683460420959, 0.7835131701312901, 0.6743065213891122, 0.6479100885879383, 0.7683821435568929, 0.2860491904417325, 0.6647094266786636, 0.7485532449570113, 0.6435780213235839, 0.7005165565342173, 0.7250939837283573, 0.737094904108119, 0.18692624574749245, 0.7510780893331156, 0.7880195596184022, 0.6203217770032642, 0.7006601923857393, 0.6974722536427951, 0.24338234455673927, 0.6215111956252036, 0.748981272880644, 0.7415374859431698, 0.7133874763719261, 0.5400356450516041, 0.2582108169461731, 0.1455291421235822, 0.5953590486583802, 0.748221228537557, 0.7333990708947853, 0.5228428147839235, 0.31632297796177333, 0.6957682195351216, 0.6355638655052974, 0.6749293499918751, 0.5145771652189868, 0.7140233514527724, 0.17912343925721133, 0.651719053202326, 0.5551811004381673, 0.7295690908126017, 0.6177829716063554, 0.5239501923407198, 0.15342456303079233, 0.655707559480284, 0.7121926204937428, 0.5053741641515934, 0.6292271906786615, 0.7783932453159815, 0.7083185183997263, 0.3089461862435508, 0.7779964068753312, 0.7123558234806548, 0.45362333748411654, 0.15132873306660158, 0.31693108998316877, 0.38409748587730874, 0.21980126317450083, 0.7361678180631538, 0.56632632610601, 0.5479159465147888, 0.7257119276833078, 0.6763703027604316, 0.5029420794710444, 0.7893594076634359, 0.7918035172417881, 0.7236068427246304, 0.8036452134306472, 0.7528356122832758, 0.15982868704024192, 0.6869988239265938, 0.7684467159734969, 0.7488915193180927, 0.5071910930760475, 0.36986752696130587, 0.5194940619669146, 0.6861300534664103, 0.745091581761366, 0.8800536806402808, 0.7494015517509758, 0.41177417119154, 0.7251727683125802, 0.5809277990825059, 0.5566025997994897, 0.7357185490246764, 0.5629199918943423, 0.7120611813678038, 0.5126737800069917, 0.6819345177232747, 0.7806050239599834, 0.9194079872538337, 0.6048636826324095, 0.768496887703375, 0.27563986678401564, 0.24736073097745764, 0.1706464742615308, 0.767903914450718, 0.7218842491060935, 0.7813663612566821, 0.7228668279574754, 0.6902178561832557, 0.5213519972164914, 0.6922531466252916, 0.7550413663009249, 0.690400546655437, 0.42308115593820167, 0.7271375365093858, 0.7976946762784216, 0.7475447793317742, 0.6476686505992657, 0.7266928531440818, 0.7309947627974236, 0.7954670379176232, 0.8059956180988638, 0.25445772184608406, 0.704692364264864, 0.5031421321689366, 0.7247204327516871, 0.5064899223523569, 0.24936739194444582, 0.6646131802117834, 0.365170850262512, 0.7446444228672792, 0.5307506849125688, 0.7533329754611809, 0.5354255526140823, 0.7017977037408523, 0.5055130972232724, 0.692110260556388, 0.09606346910931564, 0.5140272387697825, 0.935299175907124, 0.734405892259755, 0.6382783495217669, 0.7246751102229484, 0.7124600644969398, 0.2863680899375853, 0.6921455761134397, 0.5136128957756038, 0.4723503364068664, 0.7940439883262902, 0.15866552680326826, 0.7314532276040483, 0.6725922386821287, 0.24605411345620268, 0.6961050848174656, 0.7532001916960221, 0.6670835443660229, 0.6388769303884566, 0.7546008674666167, 0.7312511834695878, 0.3104199966337385, 0.7011287043209886, 0.7635839697256982, 0.24834031523106612, 0.47121624613373414, 0.7809324427255122, 0.707964847181309, 0.5356897319489897, 0.7237541985011537, 0.780234669455027, 0.442978313130461, 0.34063129009496773, 0.7531370259406581, 0.6470993152509683, 0.6949655575258858, 0.5910234941876638, 0.7333708065201815, 0.835535607882867, 0.7195576037524583, 0.6560501153862835, 0.6559807037590338, 0.5181779690054872, 0.5450994150889842, 0.14873240335827356, 0.7625056470182346, 0.789145854268491, 0.19527125222114047, 0.14602925264386454, 0.7326419957589176, 0.729164451378356, 0.7797305018962278, 0.3513292375690436, 0.6261322137204084, 0.20893376241867623, 0.21696790060901602, 0.8384764988286525, 0.7937587864778866, 0.1121642541325084, 0.7310531787839393, 0.8119436950347617, 0.22325749817722298, 0.7184772069906633, 0.4363089955791788, 0.7638887955608711, 0.3527783118883731, 0.6699557577725888, 0.5499496781269051, 0.754973351649008, 0.6610958088371612, 0.7754961473338884, 0.5060068053228204, 0.7145519850473949, 0.7744162896567852, 0.525479550927488, 0.5947541945212819, 0.49413911884657363, 0.7103414219603813, 0.7759390927928114, 0.7702686423960509, 0.707019568920701, 0.3157976520321286, 0.17572357884467965, 0.5291930636990271, 0.5226328021923193, 0.6456461392199161, 0.5875745526733406, 0.4803472979934296, 0.6450578859386997, 0.7202818470783899, 0.7230618237477888, 0.15931447063534027, 0.5345430848102, 0.7245325729079541, 0.7802057810069455, 0.8630219308807964, 0.5009478393397562, 0.7376600360658955, 0.7803882485185776, 0.37532956183828586, 0.744408720922419, 0.7040340509869392, 0.5199258487296448, 0.7096321364979977, 0.6994084703414026, 0.7192592725652601, 0.6796731740272708, 0.7837658233576091, 0.6984499707410197, 0.5148028145957835, 0.5576454467493014, 0.7955460181090744, 0.8930368258297934, 0.6826181062367821, 0.7450084003187933, 0.24791441790582702, 0.2206291666326638, 0.8105898027437245, 0.2229234649583958, 0.7561290147728341, 0.643507620250005, 0.5038148391287849, 0.695803999985351, 0.784770106923826, 0.5343699411469915, 0.12439877618849408, 0.750849876983724, 0.6936081128454589, 0.8052639321030431, 0.61732212142389, 0.2710150226070254, 0.16899338548272527, 0.208920238158537, 0.727176702279462, 0.7584661077697602, 0.7181026749408413, 0.7058720909307286, 0.16713036351395377, 0.7134032239021398, 0.6348688138570502, 0.7337927058684347, 0.7679858351334934, 0.237897214352904, 0.7086973475526173, 0.6299031498443727, 0.3229764870349574, 0.7619205733833074, 0.7527656475425446, 0.8453105521003432, 0.7428684702396888, 0.13361341591908948, 0.6185707849459051, 0.8474231626977611, 0.7628179152189624, 0.7903831641661819, 0.21315338853983257, 0.7844601562654331, 0.7911788567210253, 0.7585140575677232, 0.35420565536698817, 0.768341993680256, 0.6095786085348248, 0.7411440109231414, 0.7692654871800119, 0.7056480761062343, 0.6844638397652093, 0.6380169413094015, 0.374140314151761, 0.21325297841434218, 0.7277239706876822, 0.7167079655059502, 0.6658841568155535, 0.7340840884762475, 0.162599053756819, 0.7460093263568953, 0.6601037329738884, 0.2716620830132796, 0.739391413209786, 0.6952750140890661, 0.5214562217864888, 0.7123178754535228, 0.5242732398140684, 0.26846776748828594, 0.5061762227689424, 0.801650858324713, 0.6486869646736803, 0.6338487398467055, 0.6576771194620005, 0.6146966721412604, 0.7605892260406768, 0.7079894261930575, 0.5033403679252718, 0.7248735126682051, 0.6970952926259631, 0.5554161663702766, 0.7733494583753686, 0.24767725517685132, 0.5834567519288746, 0.7045034065922505, 0.18400774712399445, 0.5122416376551512, 0.7339746224840461, 0.8022325326560402, 0.6871415552350699, 0.8003930552276838, 0.7429903751901513, 0.7080481422680698, 0.16791764126734016, 0.5965221882210843, 0.7385940184962765, 0.7404932327944057, 0.6414624320548251, 0.7208372456639, 0.6913211094627983, 0.6795003387355152, 0.6082933550389922, 0.3187260542668803, 0.5265467135981008, 0.5364652896455164, 0.5250656946831465, 0.2902440225385904, 0.776354754593212, 0.5029969099606394, 0.6905289687016807, 0.7055877841980173, 0.17629960641293907, 0.5219271271284459, 0.26501359244345274, 0.5069749759415072, 0.5254907851896691, 0.6678668868004115, 0.5009342809846252, 0.774550686121259, 0.5624541240699388, 0.7935881589260657, 0.7177313906491032, 0.48296082395029616, 0.7752899468524218, 0.7928830449758955, 0.5201135424193201, 0.5012272520406517, 0.7808300505127079, 0.49781856854795076, 0.3734872173236994, 0.5499262110415962, 0.7137904058116838, 0.6983278690866686, 0.5462442347591621, 0.491419276977087, 0.7509095975572434, 0.5340914708711948, 0.7816961613270786, 0.7101756085963683, 0.7634892816273519, 0.7328372228757102, 0.7409002323161363, 0.7634661950929601, 0.7122265801477032, 0.7726614626303034, 0.7134278116646187, 0.5901340154254769, 0.7363437951755718, 0.8935864252847173, 0.5540821178687567, 0.6804069488675762, 0.788266314702046, 0.7166565104961788, 0.6264395391164065, 0.738418781352854, 0.7207941598874955, 0.7324549187430915, 0.3132194617179718, 0.3806316470690276, 0.8679599022221676, 0.6147497925604986, 0.5024386907667514, 0.15966903727950907, 0.5036084391292635, 0.7668389040600678, 0.17054287261486886, 0.716355184139146, 0.7473818796387187, 0.5873091746412387, 0.7480014304885483, 0.601000505223277, 0.677318634058594, 0.7067806777610318, 0.36409496356620263, 0.6894440087083165, 0.790634066030167, 0.5190179519626786, 0.14591844466745857, 0.771861050762523, 0.8649039321863897, 0.20364631969947578, 0.6545724493457388, 0.7199973248255392, 0.7068163568670074, 0.6447063075842147, 0.54435017707355, 0.6196006439414226, 0.7521679520268599, 0.5873975654257702, 0.2876536494991842, 0.7521287632019138, 0.693808819414082, 0.7480823013367808, 0.7399833699393277, 0.5852000240984724, 0.7517185547220709, 0.7643683885602649, 0.5823250015233409, 0.5227373853944047, 0.38573801006004726, 0.7340492596486804, 0.6348384742558131, 0.6383915161018087, 0.2650341685988488, 0.1420698964471534, 0.4733510371106021, 0.7389163919328812, 0.377938401794568, 0.7708801234091395, 0.5853763317750241, 0.7087751036177211, 0.7919779846522227, 0.43227009981059544, 0.6964404147312372, 0.743198365673701, 0.7768260714392735, 0.7669037523854175, 0.7136239283832657, 0.701703796923132, 0.7327351724135401, 0.136371406311663, 0.7594630807001597, 0.6087573918319708, 0.16181320899573365, 0.7438337184014658, 0.5638744628719359, 0.11805101826557914, 0.699755504598898, 0.6979484556697207, 0.5049026308684892, 0.7466976080852461, 0.3916612096644932, 0.650432153507313, 0.5645710406200507, 0.2614186831872005, 0.3079928444402129, 0.29221725921764596, 0.6211614018916032, 0.5982211680177469, 0.509219849228463, 0.5342702930710224, 0.7326620634653594, 0.550398262921942, 0.16084616072188507, 0.6116261717011244, 0.6736385933369757, 0.7151832599654846, 0.33336090938144575, 0.19816321073778226, 0.6591607763824705, 0.5438796683412266, 0.3473514883418081, 0.4338718869068163, 0.5627992725990915, 0.45290755701277546, 0.6041531378750995, 0.7349006676402101, 0.6622209271549709, 0.5800799174210609, 0.49179262888988273, 0.7415092279935811, 0.7709345295979317, 0.7915330331798055, 0.5057723581357586, 0.9293882733387396, 0.7415055328423384, 0.23327568682471553, 0.8569396680498406, 0.8062927356137206, 0.6841664485707546, 0.8482074097123463, 0.6564013049901715, 0.6831072356887165, 0.7620094900078426, 0.1856689482252463, 0.24769361846611662, 0.7030482911045264, 0.7087536365636634, 0.2663763400080609, 0.7144992427597451, 0.34527152600231964, 0.20697007585417126, 0.7724638776502994, 0.5743411869135269, 0.6795926412145811, 0.1955706555902976, 0.7493418887710003, 0.728696450078718, 0.37554511698553, 0.6779889309128431, 0.6672234847230006, 0.7412556848566428, 0.8392859229248498, 0.8033193040296049, 0.7150969281927184, 0.7717807252257851, 0.14305803369250922, 0.7193786919460724, 0.1508608392400556, 0.7223984374129906, 0.31889249100820616, 0.7549461754411207, 0.3839106799185838, 0.8646883193064174, 0.7404163675845592, 0.6380400717642697, 0.6882038079837401, 0.7489302764106742, 0.720256948004468, 0.7117562808198876, 0.6718310413794588, 0.7001870350906422, 0.5754852252407532, 0.37134599807236485, 0.7535009529944476, 0.7520758801539835, 0.7720655817492083, 0.7669886181049986, 0.7683852161399937, 0.6107403373746307, 0.7540119175019796, 0.5098636318294728, 0.7810607454056909, 0.7422776287485338, 0.7665074770650723, 0.5491764783159948, 0.7472063350551703, 0.16667063603156426, 0.7139926776263229, 0.22114463586400687, 0.6731577273259716, 0.8293699168405678, 0.5017820550589013, 0.5047200250535264, 0.50362157171538, 0.670937544657877, 0.7273982682025693, 0.5751039417793526, 0.6034427440734119, 0.7233145961054329, 0.7598682481291675, 0.6348220819715203, 0.7290602423814252, 0.6075047191913447, 0.7366523205534332, 0.7453270671407244, 0.7413256230190214, 0.4615781838038858, 0.6169613903995018, 0.7728530131392676, 0.47130940974908625, 0.3419762682560162, 0.6711308579624031, 0.7469322437935985, 0.7074508335418331, 0.7123002211195736, 0.6160153852947167, 0.5820556707819777, 0.7669660554408664, 0.648506703928679, 0.6898768385473222, 0.40133261894170985, 0.7577531607920517, 0.6571947831431147, 0.1282830804865887, 0.6622926509451137, 0.5009086321626324, 0.7014699274216206, 0.10708604547027491, 0.6832681088566097, 0.7226067687947544, 0.7911077142650927, 0.34869195509923695, 0.7646114508079271, 0.708770284991943, 0.543196384692074, 0.7058250718457131, 0.6808568882547573, 0.7989434222320586, 0.7258993219758954, 0.6721062171521557, 0.754451653393299, 0.6447006145775361, 0.7336600972098358, 0.1252336402357571, 0.7238494972985309, 0.5702239252987873, 0.63432494422808, 0.814844911899166, 0.809841053240762, 0.7448837260532001, 0.6745010205635302, 0.2971280266513578, 0.7516253221130454, 0.712321792112444, 0.6783963229839685, 0.8293433076617422, 0.5968528890616142, 0.23487438976202119, 0.15481864442006327, 0.7479285631533868, 0.6851689634657906, 0.6895565031346945, 0.5055504424217366, 0.6856946818251177, 0.5923119884581259, 0.5242664463532892, 0.724652144327011, 0.6944190359832418, 0.7354712773033136, 0.7116292192528023, 0.4617356861151885, 0.7339295711221437, 0.7707259434468516, 0.6546063333607077, 0.5512336593244386, 0.5089572467482631, 0.7651773176164477, 0.5495313555867964, 0.6811525042422123, 0.46080265216234095, 0.7300653875915667, 0.20523957640172533, 0.6328189762824145, 0.5221742628927155, 0.7020678193554452, 0.5391208291302079, 0.7616341782555643, 0.7223658836918257, 0.7131031274867413, 0.5707654823475454, 0.7273615325954947, 0.8367059559204155, 0.34842204566431156, 0.24690052697889583, 0.5594506111462976, 0.8478125452780152, 0.8768897904793654, 0.48202782281571244, 0.7910570018145612, 0.6624450159649318, 0.7246022463015689, 0.7220289639481451, 0.6445862092736053, 0.6998871779712194, 0.5336553647013885, 0.5522115923931958, 0.7339731176615518, 0.714721443817926, 0.7040959416890733, 0.7212284544347747, 0.5816099855770694, 0.7446190491710174, 0.5885127200195281, 0.1153927383239918, 0.5085074029605389, 0.6505681491949766, 0.13978338848343633, 0.6653766619696456, 0.31992198009876105, 0.3995265710488396, 0.5031275089970028, 0.5562796217552788, 0.5292801618766692, 0.7805240864131908, 0.19090735158407954, 0.550762464949258, 0.7125462697300597, 0.42421649065636097, 0.7699874131314451, 0.7396006594385433, 0.614090399557275, 0.5016710864701606, 0.27973725951805756, 0.8223225626804849, 0.7663474319818916, 0.7209274354347501, 0.5460031992771291, 0.5159973143619362, 0.5794565502796231, 0.7339337911993237, 0.2757831653869705, 0.8799669378401482, 0.814182963683244, 0.5299210349612538, 0.6195885977408502, 0.5533755581580635, 0.7251736853117972, 0.6941387919373198, 0.40873286563247196, 0.6131314721305502, 0.7513131366106145, 0.7817384112549423, 0.5434717490877529, 0.7523161811273132, 0.20871579289244346, 0.5671641647642534, 0.4205330168713775, 0.7370106079861114, 0.6379436948464053, 0.5254098246116075, 0.18151359152232707, 0.6620814048234425, 0.2059523679706091, 0.29881858780337756, 0.5123488723537347, 0.6117695251086047, 0.6118381354781359, 0.6820149714733935, 0.7137818623429029, 0.7626355201636321, 0.727847526417423, 0.7231222417733335, 0.6058584705321328, 0.6223817046446011, 0.7692397809040131, 0.6911034602421039, 0.774014104256654, 0.6530527714488099, 0.7050070336809889, 0.2268551941248443, 0.6569244521268702, 0.44019249458546283, 0.7301391078366535, 0.5009336502274141, 0.9376040082767854, 0.7755999432063981, 0.7409144691053896, 0.21175065035418156, 0.7537045880538313, 0.6769274111761697, 0.4094730715505951, 0.3002565322120637, 0.24913046895550475, 0.3663176198001455, 0.477614435032481, 0.6715666729143187, 0.7129397629222046, 0.15558659909812764, 0.7442169511586884, 0.7693809922977194, 0.7718998706459582, 0.5369780811214864, 0.3577780003547184, 0.2178775631393461, 0.7428004344675267, 0.6412217286830448, 0.36733329603267734, 0.7733738901238136, 0.6765817981290366, 0.20896450056811078, 0.746847783586866, 0.536231562614879, 0.5112174854575131, 0.5218447284448001, 0.754805625240111, 0.5829643537658707, 0.643860579384003, 0.6554752177834569, 0.7676361813030235, 0.7627762432808123, 0.6894028991981557, 0.5261816475083883, 0.6922594277483418, 0.7030545689657888, 0.21600628725173104, 0.7330520056765912, 0.694682291076027, 0.18532263087708492, 0.16988342884514168, 0.24923688870728655, 0.7542628133287339, 0.7080241926558049, 0.5897645413517772, 0.5009110548804242, 0.689882715957814, 0.13534606057014048, 0.613509701532567, 0.7532885382573306, 0.5182347649808499, 0.5124611661839019, 0.7227680925261938, 0.774989227151048, 0.5142042061018685, 0.7465948401633591, 0.5994112887733766, 0.6758840537103485, 0.5294897488486006, 0.7078610252891213, 0.6814743159492082, 0.2899473861154417, 0.7390264052323124, 0.5324728216944917, 0.6656543928894849, 0.7830008714553754, 0.6897412549886753, 0.7473964721737482, 0.717841098405383, 0.7805619556931269, 0.7782442159945112, 0.7449091251731496, 0.5084643820536842, 0.6303362666641494, 0.7136676944192213, 0.7797383093235781, 0.5039075253123324, 0.2630783804284512, 0.7748441430594599, 0.6995558372989537, 0.5493222808218277, 0.6971407506015782, 0.7600074225955824, 0.7624776646316278, 0.742620131671229, 0.6598226929871341, 0.7474119392427063, 0.626713836539451, 0.7395456269898859, 0.16300306505495588, 0.5058823498312905, 0.7315216886898183, 0.723894263140265, 0.699232840134482, 0.5862283351988846, 0.7640834636668478, 0.7333160501540366, 0.29820802765357973, 0.7226700976812303, 0.29340758206466694, 0.5082997533214764, 0.7320118019531426, 0.5145716995163079, 0.7097885130444931, 0.7448958337903491, 0.7472913989998259, 0.4596269456564326, 0.6679969132507753, 0.5398660971276531, 0.6592798589730015, 0.6127544309178082, 0.2948607213396498, 0.5081345772426847, 0.5889917501224308, 0.7698082574807809, 0.767941565318312, 0.5042553978170741, 0.5044143006080719, 0.608167893004779, 0.7818670251200226, 0.2982170939868907, 0.8232947749192011, 0.8484279795833531, 0.6726828367449653, 0.6472896754967223, 0.6722580470277388, 0.7412623189940422, 0.728810046282375, 0.7349112608042156, 0.8358850688752726, 0.25333954486208077, 0.5170395705265577, 0.6687889130537844, 0.5765994998316588, 0.2779014027826915, 0.5830296826148638, 0.6292751259501156, 0.7089244136969307, 0.39707817248311456, 0.4331970661227135, 0.7184219122362339, 0.5069165460027658, 0.7193138160668181, 0.5313330735568372, 0.6518033598286661, 0.38480767632983975, 0.7849472802559212, 0.13768987728571583, 0.7127000971707783, 0.6971555958626454, 0.7419826375894608, 0.6222992403557529, 0.734149724149736, 0.7267483407043805, 0.727116623538781, 0.39630650808201184, 0.525947042634049, 0.6951076948809307, 0.7723778262372366, 0.13479885213076817, 0.7487353162954397, 0.7691492662363449, 0.7274831077840473, 0.4970572434098407, 0.5821525267802599, 0.7130589235913887, 0.7554668264155996, 0.7424417541381167, 0.7552278270852406, 0.7289716191766443, 0.7226653281675365, 0.7042682049534693, 0.6747497166323756, 0.5424075596758635, 0.7015015437740824, 0.6151867094832872, 0.7281085993362286, 0.551960046280264, 0.7276891615847211, 0.6935715065794703, 0.6870895752378248, 0.532872800213217, 0.7676964252981926, 0.6854139001680789, 0.5520746371086146, 0.7257728286824566, 0.7225269418548336, 0.6973579776478318, 0.6840840022790162, 0.6340805374544515, 0.656805161596388, 0.1311375070968913, 0.7469110786399553, 0.34435119480894627, 0.2948320619313904, 0.5305623531599223, 0.2859897188806988, 0.745238391560234, 0.708175326800999, 0.8555704188889045, 0.3989033953079975, 0.6196898593480109, 0.23550063201011867, 0.6512746637246625, 0.6010049315183155, 0.48690605664521724, 0.7010548268952143, 0.7047555523624829, 0.76726570895425, 0.750475458323965, 0.5285327917015045, 0.38603118098163, 0.17535427713476429, 0.7053135665019616, 0.8190735624930559, 0.6795506987192937, 0.7877547059863421, 0.5009857808964527, 0.1686790475854817, 0.4032069344692142, 0.7251206160526102, 0.6857515013585345, 0.7395236767000766, 0.5034603948114834, 0.5046849257400305, 0.16298984586942664, 0.197789759879151, 0.17342025078308032, 0.7356105657393214, 0.752571109514678, 0.6923547869124711, 0.7704286844507124, 0.4775892659284711, 0.6906940672946553, 0.09325034781392004, 0.7155435191891388, 0.7644439353317709, 0.21142076786923586, 0.7523758268302355, 0.5201916463308968, 0.7594814261233666, 0.5047871950094472, 0.638264703861427, 0.32563144375750097, 0.7098792379013025, 0.4389797113781271, 0.2799224169586043, 0.8663099039791222, 0.5416779502417576, 0.6010087767336704, 0.7172210461272479, 0.6423853528352867, 0.7534265454983209, 0.6965013293496931, 0.7922334869697887, 0.6994211666084075, 0.691216813272553, 0.5888690357585284, 0.6577295874650562, 0.7967099880664511, 0.5481967341955974, 0.4846453609400082, 0.7306416945395636, 0.530068159915811, 0.6220058259043694, 0.6729720068492426, 0.6152602319221833, 0.6814596732566789, 0.7288005348883116, 0.6805524141848287, 0.6465108029938746, 0.5254059271667775, 0.6536816856235033, 0.7476087032923879, 0.5571299373816092, 0.29612146177138643, 0.7285740824651177, 0.7686709400773446, 0.7163134145764416, 0.5449169925104953, 0.3552120192904359, 0.630218917705432, 0.44190633186943457, 0.7220529794098816, 0.2799103084632807, 0.4777466554998052, 0.720209018895064, 0.7757090334266826, 0.7391778532670643, 0.7141949307108794, 0.6963285445497004, 0.7163198783944267, 0.384689174494621, 0.7378751386054511, 0.31328754830760747, 0.7218091023403245, 0.24350709793356437, 0.12122284172629251, 0.6603145140906094, 0.4469596007068159, 0.7678654146146598, 0.6120118755921685, 0.7926676875497245, 0.5790287497421069, 0.7183730339233315, 0.2125400567737577, 0.21264661944292354, 0.5043388928675901, 0.7893953542825053, 0.7189794917541266, 0.7442237758876503, 0.6994369544915711, 0.18212439524591034, 0.7729675419301456, 0.5232714622655312, 0.7153509483065765, 0.7224308607372086, 0.49206944023987337, 0.7894315085820082, 0.5074416002138227, 0.7516907044716046, 0.7671982873310004, 0.6764744715253764, 0.17067974589540355, 0.8262281728467878, 0.5095241705955905, 0.774233364743738, 0.5083911116795476, 0.11915434011522591, 0.74975803499737, 0.3293571171959185, 0.7545800522818489, 0.7471291080915353, 0.6842978074851859, 0.566741702264746, 0.3848964412362176, 0.7497198067858665, 0.48506648016553977, 0.7420132123776114, 0.403955002462526, 0.6794418117759253, 0.7449035334010415, 0.7870853344817865, 0.13625084302645965, 0.6324748221271995, 0.44256472176952405, 0.16942692402449253, 0.7028989442183429, 0.7391490868468845, 0.5514082748160561, 0.6995086747249364, 0.1699294947937543, 0.1358833442303412, 0.7227371547879607, 0.772860322953579, 0.7049916320916642, 0.8035935087274313, 0.7501599901895495, 0.6001967375923064, 0.6947006070554735, 0.706040608379148, 0.7259903476650138, 0.6090065070938373, 0.647164094254214, 0.7350756918074779, 0.6156502261682224, 0.6871629732266332, 0.16954946109534308, 0.11391942971386484, 0.7952085664492669, 0.7597023117840175, 0.5308231027448705, 0.19051812041974697, 0.7190708990762288, 0.2847892329213699, 0.5241894062937189, 0.7416444803197922, 0.503645042349656, 0.3873637708077011, 0.7223721875640594, 0.5851061743981368, 0.6918893020966908, 0.28201452693777673, 0.5048909456971298, 0.6426328592102393, 0.2238056482195722, 0.2707531713468662, 0.7167886432369696, 0.7636094449978327, 0.6311067984852502, 0.5333450730059329, 0.5042823361805623, 0.729704618810225, 0.6327666584094049, 0.7502394618821391, 0.6798276459891711, 0.23172079290907072, 0.7851635817773112, 0.7063434924722996, 0.7122461409781157, 0.7078192838909578, 0.3729763812263123, 0.7649500274150751, 0.6257682844819324, 0.7069103814084741, 0.7018239426025406, 0.3218942842349682, 0.6437797056336172, 0.7094141228275943, 0.8031836100724822, 0.7409328745662003, 0.6724502303177673, 0.7166549098399267, 0.7417698506486966, 0.6371360735105104, 0.4680220361520154, 0.7370254076259903, 0.7579090316051985, 0.6054788090189994, 0.3104630068479922, 0.184803806502497, 0.7439669203350624, 0.43078143204843616, 0.5831498307650836, 0.14555903755146207, 0.7207624443536457, 0.7917046206632822, 0.8140711669582541, 0.5313934773459703, 0.6850130593721346, 0.6737536428545912, 0.7612310363839354, 0.7389981496086074, 0.720513408952394, 0.17395238267954743, 0.7530357887547907, 0.7291207608880116, 0.5464699310598394, 0.7765625128895303, 0.19902243932256133, 0.1911530509612761, 0.7808823066624218, 0.7111963871254702, 0.6848375019898122, 0.39301168837555633, 0.6382277813252504, 0.770254961287769, 0.5045544171522309, 0.5564632589720434, 0.34533574307295356, 0.13421069447356895, 0.2217402355131581, 0.40435134376309884, 0.7511556544653227, 0.37103861230702556, 0.7667149520152213, 0.5021569723494301, 0.718885248439699, 0.13250856970016348, 0.7557084903951526, 0.7457572803168122, 0.48753335145464044, 0.6926153053502124, 0.5885094746163361, 0.5126488676965254, 0.7747031924038971, 0.5042772776536937, 0.6455947874642364, 0.7777364544186118, 0.7832122530230836, 0.6679162039795371, 0.6128419838493187, 0.8035841224201961, 0.7057983718615335, 0.3820788838291933, 0.7061616849575021, 0.20431292473169088, 0.7009950953227037, 0.7604620845026465, 0.7294338142722391, 0.6035512650879276, 0.7314624676207748, 0.6952313143443706, 0.15195117773240907, 0.598991507125196, 0.5479671172023396, 0.6445385766059797, 0.6887791482240414, 0.7395346595908566, 0.7891362317704923, 0.6850687730900279, 0.5050971438649084, 0.7828916260810568, 0.7197230261670335, 0.6418536043335689, 0.5761282802057068, 0.776467342909407, 0.7308831892270917, 0.7348302521309158, 0.38170161012169346, 0.7711263295235294, 0.7195948984620777, 0.6517393990470803, 0.572167196667841, 0.5587207861716005, 0.519289033040562, 0.5139366021141033, 0.30154832067121334, 0.7447788631481128, 0.5856977433015746, 0.17234067233183284, 0.7215970695628737, 0.18761263623873056, 0.7790866838955312, 0.7443656286031717, 0.7309166657700423, 0.4214113241713412, 0.761581116507493, 0.6971167726775203, 0.4360174460689565, 0.7561245730696929, 0.7436334404696797, 0.4966716575949714, 0.7107934165192593, 0.7545150657468356, 0.7390014359831298, 0.7324062722891561, 0.7235719453340176, 0.722663752801489, 0.43734611446499017, 0.6713828482731355, 0.3753476675421595, 0.5346251029112263, 0.7444006163486071, 0.6787694171474695, 0.7339855529293345, 0.6458390055990654, 0.7106187014764697, 0.7234743022615483, 0.6921325146087905, 0.3854145867050649, 0.7587893648375952, 0.6959483463029449, 0.7981126462388207, 0.5879762094658877, 0.833682945277109, 0.7442703959674973, 0.6473442255627665, 0.6300037485820558, 0.6727725701421754, 0.7302762366251113, 0.663473327874409, 0.6923255897030214, 0.31769645417495834, 0.717180376100531, 0.7191407185171353, 0.23477291891640806, 0.27059506168552533, 0.20256816498518207, 0.6330613009834657, 0.45741094425658446, 0.6441355365500729, 0.5998890314877664, 0.6671468103135002, 0.6187299836302212, 0.6200775971864644, 0.46030395035423155, 0.7353662008503645, 0.8020428470772164, 0.6453067303136424, 0.775368106842296, 0.8525573824616549, 0.6864661517644947, 0.7461482389088383, 0.7061629123557092, 0.5030925563682543, 0.6944454301144934, 0.7306568840415797, 0.7480532865828095, 0.6026449814399915, 0.5710320807928175, 0.7864648807752461, 0.6241981196956611, 0.7336786709605708, 0.7544920236013413, 0.6242887940758747, 0.18111058534066032, 0.7195961836770793, 0.7862416706790647, 0.648254377014663, 0.6852321540322216, 0.3139305073119739, 0.5721263641225712, 0.6004181893548053, 0.7321983439589972, 0.7511398649205829, 0.5199731478077135, 0.18792888083645595, 0.7860145536293045, 0.11091661267330377, 0.7134588346302931, 0.5008959219791338, 0.1485679894824681, 0.7824646530967249, 0.5268666705710778, 0.7548416490184906, 0.7393194001880022, 0.2228510544032848, 0.7075841716447465, 0.5034677017878596, 0.5270170911049832, 0.6744743711461225, 0.7636703542035607, 0.7324158442462565, 0.6575272070255261, 0.7124220803931681, 0.7985094041485495, 0.777663364576189, 0.5800795146213351, 0.6562578345478349, 0.7838078146345772, 0.5030903381027952, 0.7363527571638484, 0.6872153375585516, 0.5852501572737256, 0.5009421710055232, 0.5100486625704627, 0.749321670259297, 0.762833083905805, 0.7615073876112434, 0.6128965049767522, 0.5041998319398491, 0.3117498059739236, 0.8453715340844181, 0.7343145488554481, 0.6858058434320793, 0.7160702494543634, 0.515552676054715, 0.7756955934162266, 0.37359256825156334, 0.7405868283088711, 0.6983487213261743, 0.47540209656267374, 0.48806743649263856, 0.7213571113940082, 0.6889053891192315, 0.37039802506289643, 0.7586705279370851, 0.5202874135375473, 0.6771347019027681, 0.33259351345203625, 0.7300888711914814, 0.4361427660040913, 0.17575282997215588, 0.5254745406063419, 0.7848623446339953, 0.9085882842260826, 0.14275431956448986, 0.24297106777602884, 0.6358113567857091, 0.7441520035208554, 0.7167130753116491, 0.6700410438798375, 0.5037882551978011, 0.7315289196781138, 0.6858672720062229, 0.6541930253607368, 0.13705318583125625, 0.7055801298151455, 0.5567452513212877, 0.662710064804099, 0.6950702559586763, 0.7780686128423213, 0.7691596311245785, 0.1546771572920713, 0.6864244803432071, 0.7820328742022021, 0.17553969879538492, 0.1813925596226992, 0.6789950040951449, 0.6448299971272232, 0.6472807683740993, 0.2474793298907112, 0.20964231454554413, 0.6265527677942861, 0.6998416308266939, 0.682161989925448, 0.1805561796417738, 0.7956669931883296, 0.5879421215300548, 0.17189546277428566, 0.6892173167740787, 0.22037084363074602, 0.7611664892102648, 0.8905530926317582, 0.7044486336438667, 0.7433181180444592, 0.7022518051061558, 0.756255868478241, 0.6757556004638906, 0.5079961050713343, 0.500968172715497, 0.6987012683976858, 0.6941798909378222, 0.45513191019143573, 0.21530967000966997, 0.7734506404320274, 0.28981386733149755, 0.5061231565879865, 0.11430372105954507, 0.6803319543710524, 0.7579348050484395, 0.6786254621864779, 0.6510436177476696, 0.7507872220253756, 0.7110645536547382, 0.7874082104226823, 0.7079887510874857, 0.7783521774476239, 0.17712305232311176, 0.5444937565130361, 0.5570885076323066, 0.7569189979723071, 0.22922833544998308, 0.7631818523968625, 0.6915851703293585, 0.6246731630851862, 0.39367251876007414, 0.1547239823282476, 0.7053626068568964, 0.7335572851371102, 0.6849967935528601, 0.24446843918810035, 0.5479460820182035, 0.5095796129228123, 0.4585047288503166, 0.727412236768313, 0.793241733423868, 0.7040731038414941, 0.5901348279153473, 0.7543798220436813, 0.6880319132435552, 0.747168058241573, 0.7204150079028486, 0.711050584069729, 0.7217636754044761, 0.7097537018554901, 0.6904669248645582, 0.7696698424003396, 0.25762246091343854, 0.6351784758013599, 0.7902838425549265, 0.7483588347071916, 0.1341654899265716, 0.30736295230634886, 0.7476057695874211, 0.1414829978323761, 0.6076691020104709, 0.14497003568688527, 0.7390632449136952, 0.5405620614030403, 0.4889813196018026, 0.7316216018352297, 0.16125307849263557, 0.7546215089576536, 0.7908211063925277, 0.7044280086288491, 0.7358190640552973, 0.6671118377765523, 0.7915639770407821, 0.7619094878608051, 0.8261614208335029, 0.7481449401024732, 0.5419057092764362, 0.18462749908264006, 0.7279031811334993, 0.3340342927467459, 0.7980719926246735, 0.7571356131376423, 0.7818191991112354, 0.3562239327375972, 0.7931142438173813, 0.460814047423682, 0.5284196407038586, 0.6381497319756723, 0.26244799051982165, 0.7685241237278164, 0.6222421488573088, 0.7029081188542866, 0.720321341003922, 0.6622434165390204, 0.5158086199368446, 0.7203042689494042, 0.741055345565763, 0.3281744122448944, 0.685939552618822, 0.7843295514831247, 0.18480061705620943, 0.3789541006431393, 0.6914227706838402, 0.6498727077048655, 0.6896036144376472, 0.1933164885920347, 0.5058965969843927, 0.29579304903159476, 0.6451065942655011, 0.6916238979590127, 0.7790878817608462, 0.7637960840926971, 0.5911618062973445, 0.5258842273781724, 0.38173826283339096, 0.6496247370963073, 0.7953592675470281, 0.27710542486220197, 0.6556243925469006, 0.6904215522801784, 0.5417820249385864, 0.7268575072969994, 0.6620874328265494, 0.7675003936665148, 0.6542366467426002, 0.6705829524109366, 0.5854188780771687, 0.7432722913169837, 0.700241897374424, 0.8283907146160676, 0.31400717968360453, 0.6796089569827238, 0.534860997405362, 0.782114135126382, 0.7344036610256003, 0.7971235078093315, 0.6900867251973832, 0.7116967642358162, 0.733972125674279, 0.7312792666163976, 0.6159369728191549, 0.808443905771961, 0.6841573841641045, 0.777475020082253, 0.6615389897482259, 0.7723549642599047, 0.7785741214437505, 0.7482553695897295, 0.5249722661901983, 0.7446491708468862, 0.6792471783379663, 0.6921505911154152, 0.7800533128216126, 0.7176048098022791, 0.4622320293069863, 0.6544038556855988, 0.7782721897117509, 0.66035286793601, 0.807917789507299, 0.6856384809885484, 0.7328286490726753, 0.7065255677254978, 0.5416550867528976, 0.5596596816037109, 0.44166467717558217, 0.7437078301487928, 0.36854416830267606, 0.7940731861327597, 0.5614105150886427, 0.7764804753516253, 0.6916047600731775, 0.6113934815903247, 0.502962619958143, 0.7277361483186264, 0.5300919880587007, 0.6159450666644335, 0.7197532494383385, 0.577716813280825, 0.7421168223484659, 0.7190173441427473, 0.6169948036451762, 0.8081044019324467, 0.33712146568531415, 0.7970771878748721, 0.7634246597647799, 0.7158156655166308, 0.7233302704066914, 0.7427455200128726, 0.7040676822931118, 0.15284889447449426, 0.6802380918026121, 0.17660943430254258, 0.1359931034263427, 0.5923928500521475, 0.12259826759015434, 0.64910660629845, 0.7292133005510801, 0.716496612153155, 0.7367243864911831, 0.6695084946790505, 0.47143499863903904, 0.7275585987199669, 0.28263997100278904, 0.7449137223628042, 0.754673949905454, 0.22653304219131845, 0.68444048852217, 0.25965666357095163, 0.7377491006940635, 0.6975132898055452, 0.22056250315454118, 0.7203427393031849, 0.6328446065083267, 0.3124710735132416, 0.720957735039794, 0.25951023444113785, 0.7081256979947758, 0.1741345810657143, 0.22902862256175488, 0.7162007533418713, 0.7753371148697965, 0.6398062050808709, 0.6301171939678463, 0.6962148405894952, 0.744323458233749, 0.6862696378389168, 0.8024496663895804, 0.7448629371405995, 0.4646481585834087, 0.7733187453371224, 0.626746988435618, 0.7211420971391147, 0.21886712401310945, 0.5184952861615367, 0.7329905199563534, 0.5645996626786784, 0.5157320269312647, 0.681509423555814, 0.3271320255960818, 0.6942543775257641, 0.6260311793075188, 0.7187947002979426, 0.7391221423527902, 0.12967645087880408, 0.24238185261601672, 0.19996803016929646, 0.726414691421359, 0.6975410753089553, 0.6933665235576026, 0.6625891507999173, 0.5270898832896859, 0.7097858415969691, 0.5289395789323248, 0.7201545526791979, 0.250562757133789, 0.7289502097682197, 0.736472017327189, 0.7372339375540826, 0.7248038834169209, 0.6663667896681315, 0.6334705985428644, 0.5495108728777713, 0.6727145641171159, 0.75735162928556, 0.6749302952605298, 0.7244095868143534, 0.7521647479020541, 0.6761613312490737, 0.7847192596121114, 0.7258280770944894, 0.7889897644506606, 0.7618870354145041, 0.7643504816891526, 0.8512664151661781, 0.6216732960439215, 0.7633335535658482, 0.6747107886620778, 0.7351124274422659, 0.736575791951396, 0.7402657820491015, 0.19526510928912905, 0.7739811116222891, 0.6007561214339544, 0.3274851601780112, 0.1686308002485339, 0.7821519083293739, 0.5267459295379464, 0.6695414958065505, 0.6310911063579812, 0.7666250968337534, 0.5600648532841521, 0.30742922553191465, 0.7586108458198848, 0.42214320922367565, 0.7641082242063165, 0.5475000097386068, 0.7574049466075982, 0.7566024423841675, 0.5227615117706215, 0.8804845297718554, 0.7122158842488273, 0.5103626435498558, 0.6781340170849092, 0.2340105373144114, 0.3178709896283343, 0.24857604691110527, 0.2240876027506015, 0.7992946225602473, 0.35965304834921913, 0.5878370208921768, 0.733763018942446, 0.5195311129116008, 0.5620118231851206, 0.7471100476021552, 0.7251760951973957, 0.6276796211777258, 0.6554625393023177, 0.5845934107640359, 0.5262218008259448, 0.739643783431007, 0.6562939614884941, 0.5691060670436002, 0.5243182785296616, 0.7630164360953356, 0.546098519187686, 0.6893974289826209, 0.7667174753014914, 0.6838060642361153, 0.7349913512149695, 0.3204503955723833, 0.6906375512651367, 0.6385916900497949, 0.5282507926261674, 0.6981860940081457, 0.7451681554482195, 0.7260184082536686, 0.7302600978441034, 0.7599025253962941, 0.900455793224731, 0.5614133948937808, 0.7518175952050516, 0.771813581581171, 0.4313519160854328, 0.749666205570744, 0.7073632602689034, 0.35781972724246824, 0.6967164267731143, 0.25935020117560786, 0.18281935697297796, 0.7130331859982945, 0.2043327282054623, 0.5047951863551563, 0.6186013765895917, 0.628766737840432, 0.6971264609671147, 0.7565001772258714, 0.35058612830773545, 0.7652659582845257, 0.736398852203414, 0.7033765698362622, 0.3135148271623617, 0.6394345562346133, 0.1513569202717501, 0.7183410762189553, 0.35613642483241426, 0.7618283454240271, 0.7868918218352785, 0.7077718278560468, 0.7356899381501292, 0.7016037967139146, 0.3651609676216973, 0.7201394169414801, 0.7661122593930872, 0.6310046075850531, 0.7103377038640251, 0.78340961765566, 0.7384160106578171, 0.15597535587527236, 0.7539636814580957, 0.5927719325206723, 0.7733130623780211, 0.7570948385367373, 0.28391233653578757, 0.515626436556519, 0.4971845339784257, 0.6857251128566847, 0.6530409240610057, 0.6615740647501903, 0.5035846231071693, 0.5346962531594692, 0.5352385136245463, 0.5832912123784989, 0.7782484718366202, 0.7394419291929225, 0.70312067166392, 0.6877226725823073, 0.5862207937896028, 0.5139080637901818, 0.16248705322261991, 0.7053131116287387, 0.7753187731668425, 0.7229480819377934, 0.7818107928694731, 0.6839617214572101, 0.6744460397877278, 0.23404948240071313, 0.6173957607480298, 0.737502614556688, 0.6346085460719731, 0.7819428851263375, 0.5423442523114329, 0.7721300575379367, 0.6806789806962704, 0.6131631783296333, 0.615848146997741, 0.5315321168486634, 0.7066568758645804, 0.7993020383537909, 0.6793037800002006, 0.6999682518283094, 0.27252758159181584, 0.542682676063373, 0.7246943816590901, 0.9172911023865636, 0.18025977498724197, 0.5039985682114632, 0.17985278160206114, 0.7924804615853722, 0.7059461558204716, 0.724086524124864, 0.4272921271495879, 0.5964578003884344, 0.5405611166051361, 0.5680742860924471, 0.7123809245830989, 0.2772599095051992, 0.1870130419178906, 0.4166535325417471, 0.7176544830670174, 0.7718046135899117, 0.7532922772452896, 0.8051954806535759, 0.7679779059730185, 0.6858483297878712, 0.7679914749684468, 0.7850920198798658, 0.29957453895847225, 0.72218454248412, 0.684362308500902, 0.6994027876833826, 0.523401411000542, 0.6202796542980215, 0.5489096668628778, 0.6418656868731162, 0.6299109913690301, 0.7873516689554555, 0.6621001650887776, 0.5610874649803557, 0.7903893642034142, 0.7372376770140296, 0.5654721582155615, 0.5262272953682997, 0.7003592343993109, 0.7478859957218856, 0.6207131355491402, 0.6221885108125533, 0.5141188997504857, 0.7471818891568089, 0.761736482655733, 0.22152828124172713, 0.7590850828172976, 0.16878289555847803, 0.5789425081485821, 0.7522918457478541, 0.7366285441164186, 0.6085738858691299, 0.5571924676609743, 0.5566010360776718, 0.6984036258927548, 0.6075144454868436, 0.6840193967577256, 0.7028330405467982, 0.770073702891852, 0.12633671299662405, 0.5093432339633649, 0.35636351782589254, 0.7374210681794053, 0.6883938029122685, 0.5554237830969264, 0.20413928461518477, 0.5450732052328177, 0.7261315008232316, 0.7584998360949455, 0.511247179457793, 0.6993028212877549, 0.5392812565964088, 0.7397868719457262, 0.6150956035780883, 0.15595508184208928, 0.7128916725342442, 0.705342993676949, 0.7879421104738312, 0.6601189151891094, 0.7182896638294607, 0.08890438063480831, 0.7118885922423289, 0.6723869885035609, 0.7498834919042207, 0.28511585156822755, 0.7063180623892114, 0.7364174680387333, 0.5210678234702892, 0.7561354676447036, 0.7551561965489679, 0.7521495824254891, 0.5241875124208877, 0.793961757237006, 0.8106303539008852, 0.8417748944569883, 0.6342579703570493, 0.7508726409434581, 0.4539852415180432, 0.7873119346377614, 0.5749609265359116, 0.7844518885721353, 0.5251549917312299, 0.7641173084870887, 0.552129141956963, 0.5769918666159106, 0.2408483021372283, 0.7016177051831898, 0.6747440794576148, 0.5085301379472945, 0.7867658297410195, 0.7325247529798801, 0.7796954913871322, 0.7285261607547088, 0.5038651574437518, 0.7053174472530298, 0.14643655467586159, 0.8820096305229613, 0.8280459646450926, 0.6884801624347054, 0.1950993304581925, 0.6943468862054192, 0.7444775472886573, 0.7765817535196683, 0.5468845080389193, 0.791941300183465, 0.6158983746907405, 0.7359417073380634, 0.8423006763049327, 0.5250116475040112, 0.13614160186611687, 0.5030003763995908, 0.5953608068538072, 0.41960725549791383, 0.6992221904952334, 0.30902877879872703, 0.17660283216466977, 0.6477025628765296, 0.7646116226119161, 0.28663758503607767, 0.7372193971604263, 0.7629987253278834, 0.7804810302201137, 0.6108896001840387, 0.34487885525450956, 0.6789269925912976, 0.16440106457628956, 0.7076978117097662, 0.7521423799133682, 0.6847136315863495, 0.540053054137358, 0.5069005634545517, 0.5200341428416723, 0.275067170206246, 0.772312663108047, 0.32221439664693935, 0.7766054725584535, 0.7934134337029346, 0.6071251356735742, 0.6898419244690858, 0.6398586378696874, 0.7132622094649146, 0.39946669096314746, 0.7772134265065951, 0.4186376918009376, 0.30581341530071904, 0.2745060537217743, 0.1345190914221639, 0.7871504960994784, 0.689850479525209, 0.7485415738039597, 0.7466742095578367, 0.591556584886503, 0.7162902660417724, 0.739374610204073, 0.7174838223065603, 0.7975349979677222, 0.6699879352622492, 0.4905849030266477, 0.6858754829580536, 0.7355955205765604, 0.5829717621833662, 0.6666240630207542, 0.40958875047527143, 0.6855836124051491, 0.685651085299512, 0.7414278146348774, 0.7555588517168199, 0.6971591799528093, 0.7677765465728502, 0.7139468383767851, 0.48449709810843244, 0.6137111413439612, 0.5173258062253868, 0.32304323500778137, 0.6994445520854796, 0.5035070503760967, 0.7427812323296143, 0.5101045468852269, 0.6022063850591594, 0.7487010592379527, 0.7884137617117967, 0.5564301725750895, 0.7193503742821564, 0.293810491630215, 0.38591389627347245, 0.7925562032532579, 0.710007478917795, 0.7136253853380297, 0.8583686899178086, 0.40796260586300803, 0.10228152968800243, 0.7703990463133857, 0.7856730782462188, 0.322333710064723, 0.5942399636844499, 0.6987632541873331, 0.5043341392035793, 0.7346780816404401, 0.7119402653672143, 0.5525022189133034, 0.6899983546029875, 0.4536346708705124, 0.5474618651321704, 0.4886147621414859, 0.49165118666394053, 0.12734869047184352, 0.7025922328225874, 0.4976964552319512, 0.7121399274919369, 0.6906144996920136, 0.7635012238077106, 0.7871592681407241, 0.7216820710103644, 0.7380641525998092, 0.15156772650280204, 0.7387231042084913, 0.7665289764165867, 0.4275309375865323, 0.15360289525371487, 0.7547206756327177, 0.233189866531316, 0.5258594110403826, 0.765830327936356, 0.7123217967757465, 0.7173845471108259, 0.1477644880004263, 0.5317374795190741, 0.5289092563998059, 0.5370586672193668, 0.673099289243852, 0.2198077410467171, 0.7271263726178033, 0.7630189865776233, 0.7774404581660349, 0.7195412416353605, 0.5336114676984786, 0.0894136581452805, 0.7326156653145375, 0.7291046786546205, 0.7896084274230881, 0.1919865362156449, 0.7384148735421815, 0.7864484369941833, 0.8387046983563622, 0.6799089998348172, 0.6422523112473745, 0.7509163460393925, 0.7280078012720697, 0.4055701603365291, 0.7437222295381992, 0.5033738614203904, 0.6591472874981407, 0.5431349725699682, 0.14945212165033203, 0.7171417140276207, 0.6659271270693488, 0.5906453944111552, 0.7391096693139521, 0.6212492886887173])"
      ]
     },
     "execution_count": 28,
     "metadata": {},
     "output_type": "execute_result"
    }
   ],
   "source": [
    "hate_dict_socialsent.values()"
   ]
  }
 ],
 "metadata": {
  "kernelspec": {
   "display_name": "Python 3",
   "language": "python",
   "name": "python3"
  },
  "language_info": {
   "codemirror_mode": {
    "name": "ipython",
    "version": 3
   },
   "file_extension": ".py",
   "mimetype": "text/x-python",
   "name": "python",
   "nbconvert_exporter": "python",
   "pygments_lexer": "ipython3",
   "version": "3.7.6"
  }
 },
 "nbformat": 4,
 "nbformat_minor": 5
}
